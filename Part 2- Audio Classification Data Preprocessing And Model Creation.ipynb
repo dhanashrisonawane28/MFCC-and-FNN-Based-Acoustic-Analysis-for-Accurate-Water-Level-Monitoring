{
 "cells": [
  {
   "cell_type": "markdown",
   "id": "cardiovascular-study",
   "metadata": {},
   "source": [
    "#### Audio Classification Data Preprocessing"
   ]
  },
  {
   "cell_type": "code",
   "execution_count": 97,
   "id": "7eefd02f",
   "metadata": {},
   "outputs": [
    {
     "name": "stdout",
     "output_type": "stream",
     "text": [
      "Requirement already satisfied: librosa in c:\\users\\dhanu\\envs\\test\\lib\\site-packages (0.10.1)\n",
      "Requirement already satisfied: audioread>=2.1.9 in c:\\users\\dhanu\\envs\\test\\lib\\site-packages (from librosa) (3.0.0)\n",
      "Requirement already satisfied: numpy!=1.22.0,!=1.22.1,!=1.22.2,>=1.20.3 in c:\\users\\dhanu\\envs\\test\\lib\\site-packages (from librosa) (1.24.3)\n",
      "Requirement already satisfied: scipy>=1.2.0 in c:\\users\\dhanu\\envs\\test\\lib\\site-packages (from librosa) (1.11.2)\n",
      "Requirement already satisfied: scikit-learn>=0.20.0 in c:\\users\\dhanu\\envs\\test\\lib\\site-packages (from librosa) (1.3.0)\n",
      "Requirement already satisfied: joblib>=0.14 in c:\\users\\dhanu\\envs\\test\\lib\\site-packages (from librosa) (1.3.2)\n",
      "Requirement already satisfied: decorator>=4.3.0 in c:\\users\\dhanu\\envs\\test\\lib\\site-packages (from librosa) (5.1.1)\n",
      "Requirement already satisfied: numba>=0.51.0 in c:\\users\\dhanu\\envs\\test\\lib\\site-packages (from librosa) (0.57.1)\n",
      "Requirement already satisfied: soundfile>=0.12.1 in c:\\users\\dhanu\\envs\\test\\lib\\site-packages (from librosa) (0.12.1)\n",
      "Requirement already satisfied: pooch>=1.0 in c:\\users\\dhanu\\envs\\test\\lib\\site-packages (from librosa) (1.7.0)\n",
      "Requirement already satisfied: soxr>=0.3.2 in c:\\users\\dhanu\\envs\\test\\lib\\site-packages (from librosa) (0.3.6)\n",
      "Requirement already satisfied: typing-extensions>=4.1.1 in c:\\users\\dhanu\\envs\\test\\lib\\site-packages (from librosa) (4.5.0)\n",
      "Requirement already satisfied: lazy-loader>=0.1 in c:\\users\\dhanu\\envs\\test\\lib\\site-packages (from librosa) (0.3)\n",
      "Requirement already satisfied: msgpack>=1.0 in c:\\users\\dhanu\\envs\\test\\lib\\site-packages (from librosa) (1.0.5)\n",
      "Requirement already satisfied: llvmlite<0.41,>=0.40.0dev0 in c:\\users\\dhanu\\envs\\test\\lib\\site-packages (from numba>=0.51.0->librosa) (0.40.1)\n",
      "Requirement already satisfied: platformdirs>=2.5.0 in c:\\users\\dhanu\\envs\\test\\lib\\site-packages (from pooch>=1.0->librosa) (3.10.0)\n",
      "Requirement already satisfied: packaging>=20.0 in c:\\users\\dhanu\\envs\\test\\lib\\site-packages (from pooch>=1.0->librosa) (23.1)\n",
      "Requirement already satisfied: requests>=2.19.0 in c:\\users\\dhanu\\envs\\test\\lib\\site-packages (from pooch>=1.0->librosa) (2.31.0)\n",
      "Requirement already satisfied: threadpoolctl>=2.0.0 in c:\\users\\dhanu\\envs\\test\\lib\\site-packages (from scikit-learn>=0.20.0->librosa) (3.2.0)\n",
      "Requirement already satisfied: cffi>=1.0 in c:\\users\\dhanu\\envs\\test\\lib\\site-packages (from soundfile>=0.12.1->librosa) (1.15.1)\n",
      "Requirement already satisfied: pycparser in c:\\users\\dhanu\\envs\\test\\lib\\site-packages (from cffi>=1.0->soundfile>=0.12.1->librosa) (2.21)\n",
      "Requirement already satisfied: charset-normalizer<4,>=2 in c:\\users\\dhanu\\envs\\test\\lib\\site-packages (from requests>=2.19.0->pooch>=1.0->librosa) (3.2.0)\n",
      "Requirement already satisfied: idna<4,>=2.5 in c:\\users\\dhanu\\envs\\test\\lib\\site-packages (from requests>=2.19.0->pooch>=1.0->librosa) (3.4)\n",
      "Requirement already satisfied: urllib3<3,>=1.21.1 in c:\\users\\dhanu\\envs\\test\\lib\\site-packages (from requests>=2.19.0->pooch>=1.0->librosa) (1.26.16)\n",
      "Requirement already satisfied: certifi>=2017.4.17 in c:\\users\\dhanu\\envs\\test\\lib\\site-packages (from requests>=2.19.0->pooch>=1.0->librosa) (2023.7.22)\n",
      "Note: you may need to restart the kernel to use updated packages.\n"
     ]
    }
   ],
   "source": [
    "pip install librosa"
   ]
  },
  {
   "cell_type": "code",
   "execution_count": 2,
   "id": "boxed-central",
   "metadata": {},
   "outputs": [],
   "source": [
    "### Let's read a sample audio using librosa\n",
    "import librosa\n",
    "audio_file_path='empty.mpeg'\n",
    "librosa_audio_data,librosa_sample_rate=librosa.load(audio_file_path)"
   ]
  },
  {
   "cell_type": "code",
   "execution_count": 99,
   "id": "56125561",
   "metadata": {},
   "outputs": [],
   "source": [
    "### Let's read a sample audio using librosa\n",
    "import librosa\n",
    "audio_file_path='full.mp3'\n",
    "librosa_audio_data,librosa_sample_rate=librosa.load(audio_file_path)"
   ]
  },
  {
   "cell_type": "code",
   "execution_count": 3,
   "id": "d669c83a",
   "metadata": {},
   "outputs": [
    {
     "name": "stdout",
     "output_type": "stream",
     "text": [
      "[ 0.          0.          0.         ... -0.00330681 -0.02737832\n",
      "  0.        ]\n"
     ]
    }
   ],
   "source": [
    "print(librosa_audio_data)"
   ]
  },
  {
   "cell_type": "code",
   "execution_count": 4,
   "id": "variable-airline",
   "metadata": {},
   "outputs": [
    {
     "name": "stdout",
     "output_type": "stream",
     "text": [
      "22050\n"
     ]
    }
   ],
   "source": [
    "print(librosa_sample_rate)"
   ]
  },
  {
   "cell_type": "code",
   "execution_count": 5,
   "id": "ec1b2bfa",
   "metadata": {},
   "outputs": [
    {
     "name": "stdout",
     "output_type": "stream",
     "text": [
      "Requirement already satisfied: pip in c:\\users\\dhanu\\envs\\test\\lib\\site-packages (23.2.1)\n",
      "Note: you may need to restart the kernel to use updated packages.\n"
     ]
    }
   ],
   "source": [
    "pip install --upgrade pip"
   ]
  },
  {
   "cell_type": "code",
   "execution_count": 9,
   "id": "d710d12a",
   "metadata": {},
   "outputs": [
    {
     "name": "stdout",
     "output_type": "stream",
     "text": [
      "Requirement already satisfied: matplotlib in c:\\users\\dhanu\\envs\\test\\lib\\site-packages (3.7.2)\n",
      "Requirement already satisfied: contourpy>=1.0.1 in c:\\users\\dhanu\\envs\\test\\lib\\site-packages (from matplotlib) (1.1.0)\n",
      "Requirement already satisfied: cycler>=0.10 in c:\\users\\dhanu\\envs\\test\\lib\\site-packages (from matplotlib) (0.11.0)\n",
      "Requirement already satisfied: fonttools>=4.22.0 in c:\\users\\dhanu\\envs\\test\\lib\\site-packages (from matplotlib) (4.42.1)\n",
      "Requirement already satisfied: kiwisolver>=1.0.1 in c:\\users\\dhanu\\envs\\test\\lib\\site-packages (from matplotlib) (1.4.4)\n",
      "Requirement already satisfied: numpy>=1.20 in c:\\users\\dhanu\\envs\\test\\lib\\site-packages (from matplotlib) (1.24.3)\n",
      "Requirement already satisfied: packaging>=20.0 in c:\\users\\dhanu\\envs\\test\\lib\\site-packages (from matplotlib) (23.1)\n",
      "Requirement already satisfied: pillow>=6.2.0 in c:\\users\\dhanu\\envs\\test\\lib\\site-packages (from matplotlib) (10.0.0)\n",
      "Requirement already satisfied: pyparsing<3.1,>=2.3.1 in c:\\users\\dhanu\\envs\\test\\lib\\site-packages (from matplotlib) (3.0.9)\n",
      "Requirement already satisfied: python-dateutil>=2.7 in c:\\users\\dhanu\\envs\\test\\lib\\site-packages (from matplotlib) (2.8.2)\n",
      "Requirement already satisfied: six>=1.5 in c:\\users\\dhanu\\envs\\test\\lib\\site-packages (from python-dateutil>=2.7->matplotlib) (1.16.0)\n",
      "Note: you may need to restart the kernel to use updated packages.\n"
     ]
    }
   ],
   "source": [
    "pip install matplotlib"
   ]
  },
  {
   "cell_type": "code",
   "execution_count": 6,
   "id": "724fa02e",
   "metadata": {},
   "outputs": [
    {
     "name": "stdout",
     "output_type": "stream",
     "text": [
      "3.7.2\n"
     ]
    }
   ],
   "source": [
    "import matplotlib\n",
    "print(matplotlib.__version__)"
   ]
  },
  {
   "cell_type": "code",
   "execution_count": 7,
   "id": "swedish-minute",
   "metadata": {},
   "outputs": [
    {
     "data": {
      "text/plain": [
       "[<matplotlib.lines.Line2D at 0x148d0c92610>]"
      ]
     },
     "execution_count": 7,
     "metadata": {},
     "output_type": "execute_result"
    },
    {
     "data": {
      "image/png": "[encoded data removed]",
      "text/plain": [
       "<Figure size 1200x400 with 1 Axes>"
      ]
     },
     "metadata": {},
     "output_type": "display_data"
    }
   ],
   "source": [
    "### Lets plot the librosa audio data\n",
    "import matplotlib.pyplot as plt\n",
    "\n",
    "# Original audio with 1 channel \n",
    "plt.figure(figsize=(12, 4))\n",
    "plt.plot(librosa_audio_data)"
   ]
  },
  {
   "cell_type": "markdown",
   "id": "comparative-ontario",
   "metadata": {},
   "source": [
    "#### Observation\n",
    "Here Librosa converts the signal to mono, meaning the channel will always be 1"
   ]
  },
  {
   "cell_type": "code",
   "execution_count": 8,
   "id": "norman-producer",
   "metadata": {},
   "outputs": [],
   "source": [
    "### Lets read with scipy\n",
    "from scipy.io import wavfile as wav\n",
    "wave_sample_rate, wave_audio = wav.read('empty.wav') "
   ]
  },
  {
   "cell_type": "code",
   "execution_count": 9,
   "id": "a679e79e",
   "metadata": {},
   "outputs": [
    {
     "data": {
      "text/plain": [
       "8000"
      ]
     },
     "execution_count": 9,
     "metadata": {},
     "output_type": "execute_result"
    }
   ],
   "source": [
    "wave_sample_rate"
   ]
  },
  {
   "cell_type": "code",
   "execution_count": 10,
   "id": "acting-functionality",
   "metadata": {},
   "outputs": [
    {
     "data": {
      "text/plain": [
       "array([[    0,     0],\n",
       "       [    0,     0],\n",
       "       [    0,     0],\n",
       "       ...,\n",
       "       [-3698, -3578],\n",
       "       [-3724, -3462],\n",
       "       [-4150, -5021]], dtype=int16)"
      ]
     },
     "execution_count": 10,
     "metadata": {},
     "output_type": "execute_result"
    }
   ],
   "source": [
    "wave_audio"
   ]
  },
  {
   "cell_type": "code",
   "execution_count": 11,
   "id": "pressing-college",
   "metadata": {},
   "outputs": [
    {
     "data": {
      "text/plain": [
       "[<matplotlib.lines.Line2D at 0x148d0db6790>,\n",
       " <matplotlib.lines.Line2D at 0x148d48e8cd0>]"
      ]
     },
     "execution_count": 11,
     "metadata": {},
     "output_type": "execute_result"
    },
    {
     "data": {
      "image/png": "[encoded data removed]",
      "text/plain": [
       "<Figure size 1200x400 with 1 Axes>"
      ]
     },
     "metadata": {},
     "output_type": "display_data"
    }
   ],
   "source": [
    "import matplotlib.pyplot as plt\n",
    "\n",
    "# Original audio with 2 channels \n",
    "plt.figure(figsize=(12, 4))\n",
    "plt.plot(wave_audio)"
   ]
  },
  {
   "cell_type": "markdown",
   "id": "applicable-priest",
   "metadata": {},
   "source": [
    "### Extract Features\n",
    "Here we will be using Mel-Frequency Cepstral Coefficients(MFCC) from the audio \n",
    "samples.\n",
    "The MFCC summarises the frequency distribution across the window size, so it is possible to analyse both the frequency and time characteristics of the sound. These audio representations will allow us to identify features for classification."
   ]
  },
  {
   "cell_type": "code",
   "execution_count": 12,
   "id": "chinese-north",
   "metadata": {},
   "outputs": [
    {
     "name": "stdout",
     "output_type": "stream",
     "text": [
      "(40, 137)\n"
     ]
    }
   ],
   "source": [
    "mfccs = librosa.feature.mfcc(y=librosa_audio_data, sr=librosa_sample_rate, n_mfcc=40)\n",
    "print(mfccs.shape)"
   ]
  },
  {
   "cell_type": "code",
   "execution_count": 13,
   "id": "sporting-freeware",
   "metadata": {},
   "outputs": [
    {
     "data": {
      "text/plain": [
       "array([[-6.5723517e+02, -6.5723517e+02, -6.5723517e+02, ...,\n",
       "        -2.5489259e+02, -2.4198662e+02, -2.5045905e+02],\n",
       "       [ 0.0000000e+00,  0.0000000e+00,  0.0000000e+00, ...,\n",
       "         8.8136795e+01,  8.8555573e+01,  8.2340965e+01],\n",
       "       [ 0.0000000e+00,  0.0000000e+00,  0.0000000e+00, ...,\n",
       "         1.0923412e+01,  8.3662872e+00,  1.4480993e+01],\n",
       "       ...,\n",
       "       [ 0.0000000e+00,  0.0000000e+00,  0.0000000e+00, ...,\n",
       "        -4.5661597e+00, -2.3668227e+00, -1.3609287e+00],\n",
       "       [ 0.0000000e+00,  0.0000000e+00,  0.0000000e+00, ...,\n",
       "        -5.5644369e+00,  7.4806345e-01, -4.4096708e-02],\n",
       "       [ 0.0000000e+00,  0.0000000e+00,  0.0000000e+00, ...,\n",
       "        -3.6159935e+00,  2.4271629e+00,  3.0691409e+00]], dtype=float32)"
      ]
     },
     "execution_count": 13,
     "metadata": {},
     "output_type": "execute_result"
    }
   ],
   "source": [
    "mfccs"
   ]
  },
  {
   "cell_type": "code",
   "execution_count": 14,
   "id": "10635d98",
   "metadata": {},
   "outputs": [
    {
     "name": "stdout",
     "output_type": "stream",
     "text": [
      "Requirement already satisfied: pandas in c:\\users\\dhanu\\envs\\test\\lib\\site-packages (2.0.3)\n",
      "Requirement already satisfied: python-dateutil>=2.8.2 in c:\\users\\dhanu\\envs\\test\\lib\\site-packages (from pandas) (2.8.2)\n",
      "Requirement already satisfied: pytz>=2020.1 in c:\\users\\dhanu\\envs\\test\\lib\\site-packages (from pandas) (2023.3)\n",
      "Requirement already satisfied: tzdata>=2022.1 in c:\\users\\dhanu\\envs\\test\\lib\\site-packages (from pandas) (2022.7)\n",
      "Requirement already satisfied: numpy>=1.21.0 in c:\\users\\dhanu\\envs\\test\\lib\\site-packages (from pandas) (1.24.3)\n",
      "Requirement already satisfied: six>=1.5 in c:\\users\\dhanu\\envs\\test\\lib\\site-packages (from python-dateutil>=2.8.2->pandas) (1.16.0)\n",
      "Note: you may need to restart the kernel to use updated packages.\n"
     ]
    }
   ],
   "source": [
    "pip install pandas"
   ]
  },
  {
   "cell_type": "code",
   "execution_count": 15,
   "id": "liberal-journalist",
   "metadata": {},
   "outputs": [
    {
     "data": {
      "text/html": [
       "<div>\n",
       "<style scoped>\n",
       "    .dataframe tbody tr th:only-of-type {\n",
       "        vertical-align: middle;\n",
       "    }\n",
       "\n",
       "    .dataframe tbody tr th {\n",
       "        vertical-align: top;\n",
       "    }\n",
       "\n",
       "    .dataframe thead th {\n",
       "        text-align: right;\n",
       "    }\n",
       "</style>\n",
       "<table border=\"1\" class=\"dataframe\">\n",
       "  <thead>\n",
       "    <tr style=\"text-align: right;\">\n",
       "      <th></th>\n",
       "      <th>slice_file_name</th>\n",
       "      <th>fold</th>\n",
       "      <th>classID</th>\n",
       "      <th>class</th>\n",
       "    </tr>\n",
       "  </thead>\n",
       "  <tbody>\n",
       "    <tr>\n",
       "      <th>0</th>\n",
       "      <td>EB01.wav</td>\n",
       "      <td>1</td>\n",
       "      <td>1</td>\n",
       "      <td>empty</td>\n",
       "    </tr>\n",
       "    <tr>\n",
       "      <th>1</th>\n",
       "      <td>EB02.wav</td>\n",
       "      <td>1</td>\n",
       "      <td>1</td>\n",
       "      <td>empty</td>\n",
       "    </tr>\n",
       "    <tr>\n",
       "      <th>2</th>\n",
       "      <td>EB03.wav</td>\n",
       "      <td>1</td>\n",
       "      <td>1</td>\n",
       "      <td>empty</td>\n",
       "    </tr>\n",
       "    <tr>\n",
       "      <th>3</th>\n",
       "      <td>EB04.wav</td>\n",
       "      <td>1</td>\n",
       "      <td>1</td>\n",
       "      <td>empty</td>\n",
       "    </tr>\n",
       "    <tr>\n",
       "      <th>4</th>\n",
       "      <td>EB05.wav</td>\n",
       "      <td>1</td>\n",
       "      <td>1</td>\n",
       "      <td>empty</td>\n",
       "    </tr>\n",
       "  </tbody>\n",
       "</table>\n",
       "</div>"
      ],
      "text/plain": [
       "  slice_file_name  fold  classID  class\n",
       "0        EB01.wav     1        1  empty\n",
       "1        EB02.wav     1        1  empty\n",
       "2        EB03.wav     1        1  empty\n",
       "3        EB04.wav     1        1  empty\n",
       "4        EB05.wav     1        1  empty"
      ]
     },
     "execution_count": 15,
     "metadata": {},
     "output_type": "execute_result"
    }
   ],
   "source": [
    "#### Extracting MFCC's For every audio file\n",
    "import pandas as pd\n",
    "import os\n",
    "import librosa\n",
    "\n",
    "audio_dataset_path='E:/third year first sem/EDI/DataSet-1.1/Dataset'\n",
    "metadata=pd.read_csv('E:/third year first sem/EDI/metadata1.csv')\n",
    "metadata.head()"
   ]
  },
  {
   "cell_type": "code",
   "execution_count": 16,
   "id": "chinese-calendar",
   "metadata": {},
   "outputs": [],
   "source": [
    "def features_extractor(file):\n",
    "    audio, sample_rate = librosa.load(file_name, res_type='scipy') \n",
    "    mfccs_features = librosa.feature.mfcc(y=audio, sr=sample_rate, n_mfcc=40)\n",
    "    mfccs_scaled_features = np.mean(mfccs_features.T,axis=0)\n",
    "    \n",
    "    return mfccs_scaled_features\n",
    "    "
   ]
  },
  {
   "cell_type": "code",
   "execution_count": 24,
   "id": "3f0ddc83",
   "metadata": {},
   "outputs": [
    {
     "name": "stdout",
     "output_type": "stream",
     "text": [
      "Collecting tqdm\n",
      "  Obtaining dependency information for tqdm from https://files.pythonhosted.org/packages/00/e5/f12a80907d0884e6dff9c16d0c0114d81b8cd07dc3ae54c5e962cc83037e/tqdm-4.66.1-py3-none-any.whl.metadata\n",
      "  Using cached tqdm-4.66.1-py3-none-any.whl.metadata (57 kB)\n",
      "Requirement already satisfied: colorama in c:\\users\\dhanu\\envs\\test\\lib\\site-packages (from tqdm) (0.4.6)\n",
      "Using cached tqdm-4.66.1-py3-none-any.whl (78 kB)\n",
      "Installing collected packages: tqdm\n",
      "Successfully installed tqdm-4.66.1\n",
      "Note: you may need to restart the kernel to use updated packages.\n"
     ]
    }
   ],
   "source": [
    "pip install tqdm"
   ]
  },
  {
   "cell_type": "code",
   "execution_count": 25,
   "id": "a16d5b35",
   "metadata": {},
   "outputs": [
    {
     "name": "stdout",
     "output_type": "stream",
     "text": [
      "Collecting resampyNote: you may need to restart the kernel to use updated packages.\n",
      "\n",
      "  Using cached resampy-0.4.2-py3-none-any.whl (3.1 MB)\n",
      "Requirement already satisfied: numpy>=1.17 in c:\\users\\dhanu\\envs\\test\\lib\\site-packages (from resampy) (1.24.3)\n",
      "Requirement already satisfied: numba>=0.53 in c:\\users\\dhanu\\envs\\test\\lib\\site-packages (from resampy) (0.57.1)\n",
      "Requirement already satisfied: llvmlite<0.41,>=0.40.0dev0 in c:\\users\\dhanu\\envs\\test\\lib\\site-packages (from numba>=0.53->resampy) (0.40.1)\n",
      "Installing collected packages: resampy\n",
      "Successfully installed resampy-0.4.2\n"
     ]
    }
   ],
   "source": [
    "pip install --upgrade resampy\n"
   ]
  },
  {
   "cell_type": "code",
   "execution_count": 17,
   "id": "nuclear-sponsorship",
   "metadata": {},
   "outputs": [
    {
     "name": "stderr",
     "output_type": "stream",
     "text": [
      "120it [00:01, 81.37it/s]\n"
     ]
    }
   ],
   "source": [
    "import numpy as np\n",
    "from tqdm import tqdm\n",
    "### Now we iterate through every audio file and extract features \n",
    "### using Mel-Frequency Cepstral Coefficients\n",
    "extracted_features=[]\n",
    "for index_num,row in tqdm(metadata.iterrows()):\n",
    "    file_name = os.path.join(os.path.abspath(audio_dataset_path),'fold'+str(row[\"fold\"])+'/',str(row[\"slice_file_name\"]))\n",
    "    final_class_labels=row[\"class\"]\n",
    "    data=features_extractor(file_name)\n",
    "    extracted_features.append([data,final_class_labels])\n",
    "\n",
    " \n"
   ]
  },
  {
   "cell_type": "code",
   "execution_count": 18,
   "id": "acoustic-wagner",
   "metadata": {},
   "outputs": [
    {
     "data": {
      "text/html": [
       "<div>\n",
       "<style scoped>\n",
       "    .dataframe tbody tr th:only-of-type {\n",
       "        vertical-align: middle;\n",
       "    }\n",
       "\n",
       "    .dataframe tbody tr th {\n",
       "        vertical-align: top;\n",
       "    }\n",
       "\n",
       "    .dataframe thead th {\n",
       "        text-align: right;\n",
       "    }\n",
       "</style>\n",
       "<table border=\"1\" class=\"dataframe\">\n",
       "  <thead>\n",
       "    <tr style=\"text-align: right;\">\n",
       "      <th></th>\n",
       "      <th>feature</th>\n",
       "      <th>class</th>\n",
       "    </tr>\n",
       "  </thead>\n",
       "  <tbody>\n",
       "    <tr>\n",
       "      <th>0</th>\n",
       "      <td>[-376.4909, 146.52739, -31.588408, 25.383196, ...</td>\n",
       "      <td>empty</td>\n",
       "    </tr>\n",
       "    <tr>\n",
       "      <th>1</th>\n",
       "      <td>[-351.7789, 168.85724, -67.08569, 34.303513, 2...</td>\n",
       "      <td>empty</td>\n",
       "    </tr>\n",
       "    <tr>\n",
       "      <th>2</th>\n",
       "      <td>[-337.14053, 188.16805, -83.97901, 36.728615, ...</td>\n",
       "      <td>empty</td>\n",
       "    </tr>\n",
       "    <tr>\n",
       "      <th>3</th>\n",
       "      <td>[-273.37653, 182.6911, -81.001015, 33.134083, ...</td>\n",
       "      <td>empty</td>\n",
       "    </tr>\n",
       "    <tr>\n",
       "      <th>4</th>\n",
       "      <td>[-343.4883, 158.8313, -54.135056, 27.145061, 2...</td>\n",
       "      <td>empty</td>\n",
       "    </tr>\n",
       "  </tbody>\n",
       "</table>\n",
       "</div>"
      ],
      "text/plain": [
       "                                             feature  class\n",
       "0  [-376.4909, 146.52739, -31.588408, 25.383196, ...  empty\n",
       "1  [-351.7789, 168.85724, -67.08569, 34.303513, 2...  empty\n",
       "2  [-337.14053, 188.16805, -83.97901, 36.728615, ...  empty\n",
       "3  [-273.37653, 182.6911, -81.001015, 33.134083, ...  empty\n",
       "4  [-343.4883, 158.8313, -54.135056, 27.145061, 2...  empty"
      ]
     },
     "execution_count": 18,
     "metadata": {},
     "output_type": "execute_result"
    }
   ],
   "source": [
    "### converting extracted_features to Pandas dataframe\n",
    "extracted_features_df=pd.DataFrame(extracted_features,columns=['feature','class'])\n",
    "extracted_features_df.head()"
   ]
  },
  {
   "cell_type": "code",
   "execution_count": 19,
   "id": "characteristic-sudan",
   "metadata": {},
   "outputs": [],
   "source": [
    "### Split the dataset into independent and dependent dataset\n",
    "X=np.array(extracted_features_df['feature'].tolist())\n",
    "y=np.array(extracted_features_df['class'].tolist())"
   ]
  },
  {
   "cell_type": "code",
   "execution_count": 20,
   "id": "friendly-placement",
   "metadata": {},
   "outputs": [
    {
     "data": {
      "text/plain": [
       "(120, 40)"
      ]
     },
     "execution_count": 20,
     "metadata": {},
     "output_type": "execute_result"
    }
   ],
   "source": [
    "X.shape"
   ]
  },
  {
   "cell_type": "code",
   "execution_count": 14,
   "id": "36ff4ef3",
   "metadata": {},
   "outputs": [],
   "source": [
    "###y=np.array(pd.get_dummies(y))"
   ]
  },
  {
   "cell_type": "code",
   "execution_count": 21,
   "id": "japanese-cheese",
   "metadata": {},
   "outputs": [
    {
     "data": {
      "text/plain": [
       "(120,)"
      ]
     },
     "execution_count": 21,
     "metadata": {},
     "output_type": "execute_result"
    }
   ],
   "source": [
    "y.shape"
   ]
  },
  {
   "cell_type": "code",
   "execution_count": 27,
   "id": "6cceca20",
   "metadata": {},
   "outputs": [
    {
     "name": "stdout",
     "output_type": "stream",
     "text": [
      "Requirement already satisfied: tensorflow in c:\\users\\dhanu\\envs\\test\\lib\\site-packages (2.13.0)\n",
      "Requirement already satisfied: tensorflow-intel==2.13.0 in c:\\users\\dhanu\\envs\\test\\lib\\site-packages (from tensorflow) (2.13.0)\n",
      "Requirement already satisfied: absl-py>=1.0.0 in c:\\users\\dhanu\\envs\\test\\lib\\site-packages (from tensorflow-intel==2.13.0->tensorflow) (1.4.0)\n",
      "Requirement already satisfied: astunparse>=1.6.0 in c:\\users\\dhanu\\envs\\test\\lib\\site-packages (from tensorflow-intel==2.13.0->tensorflow) (1.6.3)\n",
      "Requirement already satisfied: flatbuffers>=23.1.21 in c:\\users\\dhanu\\envs\\test\\lib\\site-packages (from tensorflow-intel==2.13.0->tensorflow) (23.5.26)\n",
      "Requirement already satisfied: gast<=0.4.0,>=0.2.1 in c:\\users\\dhanu\\envs\\test\\lib\\site-packages (from tensorflow-intel==2.13.0->tensorflow) (0.4.0)\n",
      "Requirement already satisfied: google-pasta>=0.1.1 in c:\\users\\dhanu\\envs\\test\\lib\\site-packages (from tensorflow-intel==2.13.0->tensorflow) (0.2.0)\n",
      "Requirement already satisfied: h5py>=2.9.0 in c:\\users\\dhanu\\envs\\test\\lib\\site-packages (from tensorflow-intel==2.13.0->tensorflow) (3.9.0)\n",
      "Requirement already satisfied: libclang>=13.0.0 in c:\\users\\dhanu\\envs\\test\\lib\\site-packages (from tensorflow-intel==2.13.0->tensorflow) (16.0.6)\n",
      "Requirement already satisfied: numpy<=1.24.3,>=1.22 in c:\\users\\dhanu\\envs\\test\\lib\\site-packages (from tensorflow-intel==2.13.0->tensorflow) (1.24.3)\n",
      "Requirement already satisfied: opt-einsum>=2.3.2 in c:\\users\\dhanu\\envs\\test\\lib\\site-packages (from tensorflow-intel==2.13.0->tensorflow) (3.3.0)\n",
      "Requirement already satisfied: packaging in c:\\users\\dhanu\\envs\\test\\lib\\site-packages (from tensorflow-intel==2.13.0->tensorflow) (23.1)\n",
      "Requirement already satisfied: protobuf!=4.21.0,!=4.21.1,!=4.21.2,!=4.21.3,!=4.21.4,!=4.21.5,<5.0.0dev,>=3.20.3 in c:\\users\\dhanu\\envs\\test\\lib\\site-packages (from tensorflow-intel==2.13.0->tensorflow) (4.24.1)\n",
      "Requirement already satisfied: setuptools in c:\\users\\dhanu\\envs\\test\\lib\\site-packages (from tensorflow-intel==2.13.0->tensorflow) (65.6.3)\n",
      "Requirement already satisfied: six>=1.12.0 in c:\\users\\dhanu\\envs\\test\\lib\\site-packages (from tensorflow-intel==2.13.0->tensorflow) (1.16.0)\n",
      "Requirement already satisfied: termcolor>=1.1.0 in c:\\users\\dhanu\\envs\\test\\lib\\site-packages (from tensorflow-intel==2.13.0->tensorflow) (2.3.0)\n",
      "Requirement already satisfied: typing-extensions<4.6.0,>=3.6.6 in c:\\users\\dhanu\\envs\\test\\lib\\site-packages (from tensorflow-intel==2.13.0->tensorflow) (4.5.0)\n",
      "Requirement already satisfied: wrapt>=1.11.0 in c:\\users\\dhanu\\envs\\test\\lib\\site-packages (from tensorflow-intel==2.13.0->tensorflow) (1.15.0)\n",
      "Requirement already satisfied: grpcio<2.0,>=1.24.3 in c:\\users\\dhanu\\envs\\test\\lib\\site-packages (from tensorflow-intel==2.13.0->tensorflow) (1.57.0)\n",
      "Requirement already satisfied: tensorboard<2.14,>=2.13 in c:\\users\\dhanu\\envs\\test\\lib\\site-packages (from tensorflow-intel==2.13.0->tensorflow) (2.13.0)\n",
      "Requirement already satisfied: tensorflow-estimator<2.14,>=2.13.0 in c:\\users\\dhanu\\envs\\test\\lib\\site-packages (from tensorflow-intel==2.13.0->tensorflow) (2.13.0)\n",
      "Requirement already satisfied: keras<2.14,>=2.13.1 in c:\\users\\dhanu\\envs\\test\\lib\\site-packages (from tensorflow-intel==2.13.0->tensorflow) (2.13.1)\n",
      "Requirement already satisfied: tensorflow-io-gcs-filesystem>=0.23.1 in c:\\users\\dhanu\\envs\\test\\lib\\site-packages (from tensorflow-intel==2.13.0->tensorflow) (0.31.0)\n",
      "Requirement already satisfied: wheel<1.0,>=0.23.0 in c:\\users\\dhanu\\envs\\test\\lib\\site-packages (from astunparse>=1.6.0->tensorflow-intel==2.13.0->tensorflow) (0.38.4)\n",
      "Requirement already satisfied: google-auth<3,>=1.6.3 in c:\\users\\dhanu\\envs\\test\\lib\\site-packages (from tensorboard<2.14,>=2.13->tensorflow-intel==2.13.0->tensorflow) (2.22.0)\n",
      "Requirement already satisfied: google-auth-oauthlib<1.1,>=0.5 in c:\\users\\dhanu\\envs\\test\\lib\\site-packages (from tensorboard<2.14,>=2.13->tensorflow-intel==2.13.0->tensorflow) (1.0.0)\n",
      "Requirement already satisfied: markdown>=2.6.8 in c:\\users\\dhanu\\envs\\test\\lib\\site-packages (from tensorboard<2.14,>=2.13->tensorflow-intel==2.13.0->tensorflow) (3.4.4)\n",
      "Requirement already satisfied: requests<3,>=2.21.0 in c:\\users\\dhanu\\envs\\test\\lib\\site-packages (from tensorboard<2.14,>=2.13->tensorflow-intel==2.13.0->tensorflow) (2.31.0)\n",
      "Requirement already satisfied: tensorboard-data-server<0.8.0,>=0.7.0 in c:\\users\\dhanu\\envs\\test\\lib\\site-packages (from tensorboard<2.14,>=2.13->tensorflow-intel==2.13.0->tensorflow) (0.7.1)\n",
      "Requirement already satisfied: werkzeug>=1.0.1 in c:\\users\\dhanu\\envs\\test\\lib\\site-packages (from tensorboard<2.14,>=2.13->tensorflow-intel==2.13.0->tensorflow) (2.3.7)\n",
      "Requirement already satisfied: cachetools<6.0,>=2.0.0 in c:\\users\\dhanu\\envs\\test\\lib\\site-packages (from google-auth<3,>=1.6.3->tensorboard<2.14,>=2.13->tensorflow-intel==2.13.0->tensorflow) (5.3.1)\n",
      "Requirement already satisfied: pyasn1-modules>=0.2.1 in c:\\users\\dhanu\\envs\\test\\lib\\site-packages (from google-auth<3,>=1.6.3->tensorboard<2.14,>=2.13->tensorflow-intel==2.13.0->tensorflow) (0.3.0)\n",
      "Requirement already satisfied: rsa<5,>=3.1.4 in c:\\users\\dhanu\\envs\\test\\lib\\site-packages (from google-auth<3,>=1.6.3->tensorboard<2.14,>=2.13->tensorflow-intel==2.13.0->tensorflow) (4.9)\n",
      "Requirement already satisfied: urllib3<2.0 in c:\\users\\dhanu\\envs\\test\\lib\\site-packages (from google-auth<3,>=1.6.3->tensorboard<2.14,>=2.13->tensorflow-intel==2.13.0->tensorflow) (1.26.16)\n",
      "Requirement already satisfied: requests-oauthlib>=0.7.0 in c:\\users\\dhanu\\envs\\test\\lib\\site-packages (from google-auth-oauthlib<1.1,>=0.5->tensorboard<2.14,>=2.13->tensorflow-intel==2.13.0->tensorflow) (1.3.1)\n",
      "Requirement already satisfied: charset-normalizer<4,>=2 in c:\\users\\dhanu\\envs\\test\\lib\\site-packages (from requests<3,>=2.21.0->tensorboard<2.14,>=2.13->tensorflow-intel==2.13.0->tensorflow) (3.2.0)\n",
      "Requirement already satisfied: idna<4,>=2.5 in c:\\users\\dhanu\\envs\\test\\lib\\site-packages (from requests<3,>=2.21.0->tensorboard<2.14,>=2.13->tensorflow-intel==2.13.0->tensorflow) (3.4)\n",
      "Requirement already satisfied: certifi>=2017.4.17 in c:\\users\\dhanu\\envs\\test\\lib\\site-packages (from requests<3,>=2.21.0->tensorboard<2.14,>=2.13->tensorflow-intel==2.13.0->tensorflow) (2023.7.22)\n",
      "Requirement already satisfied: MarkupSafe>=2.1.1 in c:\\users\\dhanu\\envs\\test\\lib\\site-packages (from werkzeug>=1.0.1->tensorboard<2.14,>=2.13->tensorflow-intel==2.13.0->tensorflow) (2.1.3)\n",
      "Requirement already satisfied: pyasn1<0.6.0,>=0.4.6 in c:\\users\\dhanu\\envs\\test\\lib\\site-packages (from pyasn1-modules>=0.2.1->google-auth<3,>=1.6.3->tensorboard<2.14,>=2.13->tensorflow-intel==2.13.0->tensorflow) (0.5.0)\n",
      "Requirement already satisfied: oauthlib>=3.0.0 in c:\\users\\dhanu\\envs\\test\\lib\\site-packages (from requests-oauthlib>=0.7.0->google-auth-oauthlib<1.1,>=0.5->tensorboard<2.14,>=2.13->tensorflow-intel==2.13.0->tensorflow) (3.2.2)\n",
      "Note: you may need to restart the kernel to use updated packages.\n"
     ]
    }
   ],
   "source": [
    "pip install tensorflow"
   ]
  },
  {
   "cell_type": "code",
   "execution_count": 28,
   "id": "4102e32e",
   "metadata": {},
   "outputs": [
    {
     "name": "stdout",
     "output_type": "stream",
     "text": [
      "Requirement already satisfied: scikit-learn in c:\\users\\dhanu\\envs\\test\\lib\\site-packages (1.3.0)\n",
      "Requirement already satisfied: numpy>=1.17.3 in c:\\users\\dhanu\\envs\\test\\lib\\site-packages (from scikit-learn) (1.24.3)\n",
      "Requirement already satisfied: scipy>=1.5.0 in c:\\users\\dhanu\\envs\\test\\lib\\site-packages (from scikit-learn) (1.11.2)\n",
      "Requirement already satisfied: joblib>=1.1.1 in c:\\users\\dhanu\\envs\\test\\lib\\site-packages (from scikit-learn) (1.3.2)\n",
      "Requirement already satisfied: threadpoolctl>=2.0.0 in c:\\users\\dhanu\\envs\\test\\lib\\site-packages (from scikit-learn) (3.2.0)\n",
      "Note: you may need to restart the kernel to use updated packages.\n"
     ]
    }
   ],
   "source": [
    "pip install scikit-learn"
   ]
  },
  {
   "cell_type": "code",
   "execution_count": 22,
   "id": "wired-church",
   "metadata": {},
   "outputs": [],
   "source": [
    "from tensorflow.keras.utils import to_categorical\n",
    "from sklearn.preprocessing import LabelEncoder\n",
    "labelencoder=LabelEncoder()\n",
    "y=to_categorical(labelencoder.fit_transform(y))"
   ]
  },
  {
   "cell_type": "code",
   "execution_count": 119,
   "id": "sitting-anniversary",
   "metadata": {},
   "outputs": [
    {
     "data": {
      "text/plain": [
       "array([[1., 0., 0.],\n",
       "       [1., 0., 0.],\n",
       "       [1., 0., 0.],\n",
       "       [1., 0., 0.],\n",
       "       [1., 0., 0.],\n",
       "       [1., 0., 0.],\n",
       "       [1., 0., 0.],\n",
       "       [1., 0., 0.],\n",
       "       [1., 0., 0.],\n",
       "       [1., 0., 0.],\n",
       "       [1., 0., 0.],\n",
       "       [1., 0., 0.],\n",
       "       [1., 0., 0.],\n",
       "       [1., 0., 0.],\n",
       "       [1., 0., 0.],\n",
       "       [1., 0., 0.],\n",
       "       [1., 0., 0.],\n",
       "       [1., 0., 0.],\n",
       "       [1., 0., 0.],\n",
       "       [1., 0., 0.],\n",
       "       [1., 0., 0.],\n",
       "       [1., 0., 0.],\n",
       "       [1., 0., 0.],\n",
       "       [1., 0., 0.],\n",
       "       [1., 0., 0.],\n",
       "       [1., 0., 0.],\n",
       "       [1., 0., 0.],\n",
       "       [1., 0., 0.],\n",
       "       [1., 0., 0.],\n",
       "       [1., 0., 0.],\n",
       "       [1., 0., 0.],\n",
       "       [1., 0., 0.],\n",
       "       [1., 0., 0.],\n",
       "       [1., 0., 0.],\n",
       "       [1., 0., 0.],\n",
       "       [1., 0., 0.],\n",
       "       [1., 0., 0.],\n",
       "       [1., 0., 0.],\n",
       "       [1., 0., 0.],\n",
       "       [1., 0., 0.],\n",
       "       [0., 0., 1.],\n",
       "       [0., 0., 1.],\n",
       "       [0., 0., 1.],\n",
       "       [0., 0., 1.],\n",
       "       [0., 0., 1.],\n",
       "       [0., 0., 1.],\n",
       "       [0., 0., 1.],\n",
       "       [0., 0., 1.],\n",
       "       [0., 0., 1.],\n",
       "       [0., 0., 1.],\n",
       "       [0., 0., 1.],\n",
       "       [0., 0., 1.],\n",
       "       [0., 0., 1.],\n",
       "       [0., 0., 1.],\n",
       "       [0., 0., 1.],\n",
       "       [0., 0., 1.],\n",
       "       [0., 0., 1.],\n",
       "       [0., 0., 1.],\n",
       "       [0., 0., 1.],\n",
       "       [0., 0., 1.],\n",
       "       [0., 0., 1.],\n",
       "       [0., 0., 1.],\n",
       "       [0., 0., 1.],\n",
       "       [0., 0., 1.],\n",
       "       [0., 0., 1.],\n",
       "       [0., 0., 1.],\n",
       "       [0., 0., 1.],\n",
       "       [0., 0., 1.],\n",
       "       [0., 0., 1.],\n",
       "       [0., 0., 1.],\n",
       "       [0., 0., 1.],\n",
       "       [0., 0., 1.],\n",
       "       [0., 0., 1.],\n",
       "       [0., 0., 1.],\n",
       "       [0., 0., 1.],\n",
       "       [0., 0., 1.],\n",
       "       [0., 0., 1.],\n",
       "       [0., 0., 1.],\n",
       "       [0., 0., 1.],\n",
       "       [0., 0., 1.],\n",
       "       [0., 1., 0.],\n",
       "       [0., 1., 0.],\n",
       "       [0., 1., 0.],\n",
       "       [0., 1., 0.],\n",
       "       [0., 1., 0.],\n",
       "       [0., 1., 0.],\n",
       "       [0., 1., 0.],\n",
       "       [0., 1., 0.],\n",
       "       [0., 1., 0.],\n",
       "       [0., 1., 0.],\n",
       "       [0., 1., 0.],\n",
       "       [0., 1., 0.],\n",
       "       [0., 1., 0.],\n",
       "       [0., 1., 0.],\n",
       "       [0., 1., 0.],\n",
       "       [0., 1., 0.],\n",
       "       [0., 1., 0.],\n",
       "       [0., 1., 0.],\n",
       "       [0., 1., 0.],\n",
       "       [0., 1., 0.],\n",
       "       [0., 1., 0.],\n",
       "       [0., 1., 0.],\n",
       "       [0., 1., 0.],\n",
       "       [0., 1., 0.],\n",
       "       [0., 1., 0.],\n",
       "       [0., 1., 0.],\n",
       "       [0., 1., 0.],\n",
       "       [0., 1., 0.],\n",
       "       [0., 1., 0.],\n",
       "       [0., 1., 0.],\n",
       "       [0., 1., 0.],\n",
       "       [0., 1., 0.],\n",
       "       [0., 1., 0.],\n",
       "       [0., 1., 0.],\n",
       "       [0., 1., 0.],\n",
       "       [0., 1., 0.],\n",
       "       [0., 1., 0.],\n",
       "       [0., 1., 0.],\n",
       "       [0., 1., 0.],\n",
       "       [0., 1., 0.]], dtype=float32)"
      ]
     },
     "execution_count": 119,
     "metadata": {},
     "output_type": "execute_result"
    }
   ],
   "source": [
    "y"
   ]
  },
  {
   "cell_type": "code",
   "execution_count": 23,
   "id": "documentary-priority",
   "metadata": {},
   "outputs": [],
   "source": [
    "### Train Test Split\n",
    "from sklearn.model_selection import train_test_split\n",
    "X_train,X_test,y_train,y_test=train_test_split(X,y,test_size=0.2,random_state=0)"
   ]
  },
  {
   "cell_type": "code",
   "execution_count": 121,
   "id": "analyzed-payday",
   "metadata": {},
   "outputs": [
    {
     "data": {
      "text/plain": [
       "array([[-4.6055783e+02,  8.7130844e+01, -1.7243832e+01, ...,\n",
       "        -5.2179246e+00,  7.4381828e-01, -5.1298757e+00],\n",
       "       [-3.4348831e+02,  1.5883130e+02, -5.4135056e+01, ...,\n",
       "        -6.7047030e-01, -9.0237713e-01, -3.2661688e+00],\n",
       "       [-3.1558487e+02,  6.1068520e+01, -1.2165350e+00, ...,\n",
       "        -3.0934792e+00, -9.7186775e+00, -4.4473653e+00],\n",
       "       ...,\n",
       "       [-3.7010208e+02,  1.0952803e+02,  1.3580346e+01, ...,\n",
       "         3.6765185e-01, -1.1440004e+00, -1.6007373e-01],\n",
       "       [-2.7151642e+02,  7.0621254e+01,  1.5900015e+01, ...,\n",
       "        -8.4276819e+00, -3.3450084e+00, -2.9126642e+00],\n",
       "       [-3.0779028e+02,  8.1654976e+01,  1.5188535e+01, ...,\n",
       "        -3.9079976e+00,  3.7902393e+00,  3.7520286e-01]], dtype=float32)"
      ]
     },
     "execution_count": 121,
     "metadata": {},
     "output_type": "execute_result"
    }
   ],
   "source": [
    "X_train"
   ]
  },
  {
   "cell_type": "code",
   "execution_count": 24,
   "id": "flexible-lithuania",
   "metadata": {},
   "outputs": [
    {
     "data": {
      "text/plain": [
       "(96, 40)"
      ]
     },
     "execution_count": 24,
     "metadata": {},
     "output_type": "execute_result"
    }
   ],
   "source": [
    "X_train.shape"
   ]
  },
  {
   "cell_type": "code",
   "execution_count": 123,
   "id": "instrumental-equity",
   "metadata": {},
   "outputs": [
    {
     "data": {
      "text/plain": [
       "(24, 40)"
      ]
     },
     "execution_count": 123,
     "metadata": {},
     "output_type": "execute_result"
    }
   ],
   "source": [
    "X_test.shape"
   ]
  },
  {
   "cell_type": "code",
   "execution_count": 124,
   "id": "chemical-vermont",
   "metadata": {},
   "outputs": [
    {
     "data": {
      "text/plain": [
       "(96, 3)"
      ]
     },
     "execution_count": 124,
     "metadata": {},
     "output_type": "execute_result"
    }
   ],
   "source": [
    "y_train.shape"
   ]
  },
  {
   "cell_type": "code",
   "execution_count": 36,
   "id": "governing-natural",
   "metadata": {},
   "outputs": [
    {
     "data": {
      "text/plain": [
       "(24, 3)"
      ]
     },
     "execution_count": 36,
     "metadata": {},
     "output_type": "execute_result"
    }
   ],
   "source": [
    "y_test.shape"
   ]
  },
  {
   "cell_type": "code",
   "execution_count": 25,
   "id": "1932a532",
   "metadata": {},
   "outputs": [
    {
     "data": {
      "image/png": "[encoded data removed]",
      "text/plain": [
       "<Figure size 800x600 with 1 Axes>"
      ]
     },
     "metadata": {},
     "output_type": "display_data"
    }
   ],
   "source": [
    "import matplotlib.pyplot as plt\n",
    "\n",
    "# Sample data shapes\n",
    "X_train_shape = X_train.shape[0]\n",
    "X_test_shape = X_test.shape[0]\n",
    "y_train_shape = y_train.shape[0]\n",
    "y_test_shape = y_test.shape[0]\n",
    "\n",
    "# Labels for the bars\n",
    "labels = ['X_train', 'X_test', 'y_train', 'y_test']\n",
    "\n",
    "# Data for the bars\n",
    "data_shapes = [X_train_shape, X_test_shape, y_train_shape, y_test_shape]\n",
    "\n",
    "# Create a bar plot\n",
    "plt.figure(figsize=(8, 6))\n",
    "plt.bar(labels, data_shapes, color=['blue', 'orange', 'green', 'red'])\n",
    "plt.xlabel('Data Type')\n",
    "plt.ylabel('Number of Samples')\n",
    "plt.title('Shapes of Training and Testing Data')\n",
    "plt.xticks(rotation=45)\n",
    "plt.tight_layout()\n",
    "\n",
    "# Annotate the bars with the shapes\n",
    "for i, v in enumerate(data_shapes):\n",
    "    plt.text(i, v, str(v), ha='center', va='bottom', fontsize=10)\n",
    "\n",
    "# Show the plot\n",
    "plt.show()\n"
   ]
  },
  {
   "cell_type": "markdown",
   "id": "express-vessel",
   "metadata": {},
   "source": [
    "### Model Creation"
   ]
  },
  {
   "cell_type": "code",
   "execution_count": 26,
   "id": "loose-portugal",
   "metadata": {},
   "outputs": [
    {
     "name": "stdout",
     "output_type": "stream",
     "text": [
      "2.13.0\n"
     ]
    }
   ],
   "source": [
    "import tensorflow as tf\n",
    "print(tf.__version__)"
   ]
  },
  {
   "cell_type": "code",
   "execution_count": 27,
   "id": "indonesian-accessory",
   "metadata": {},
   "outputs": [],
   "source": [
    "from tensorflow.keras.models import Sequential\n",
    "from tensorflow.keras.layers import Dense,Dropout,Activation,Flatten\n",
    "from tensorflow.keras.optimizers import Adam\n",
    "from sklearn import metrics"
   ]
  },
  {
   "cell_type": "code",
   "execution_count": 28,
   "id": "valuable-substitute",
   "metadata": {},
   "outputs": [],
   "source": [
    "### No of classes\n",
    "num_labels=y.shape[1]"
   ]
  },
  {
   "cell_type": "code",
   "execution_count": 29,
   "id": "found-outside",
   "metadata": {},
   "outputs": [],
   "source": [
    "model=Sequential()\n",
    "###first layer\n",
    "model.add(Dense(100,input_shape=(40,)))\n",
    "model.add(Activation('relu'))\n",
    "model.add(Dropout(0.5))\n",
    "###second layer\n",
    "model.add(Dense(200))\n",
    "model.add(Activation('relu'))\n",
    "model.add(Dropout(0.5))\n",
    "###third layer\n",
    "model.add(Dense(100))\n",
    "model.add(Activation('relu'))\n",
    "model.add(Dropout(0.5))\n",
    "\n",
    "###final layer\n",
    "model.add(Dense(num_labels))\n",
    "model.add(Activation('softmax'))"
   ]
  },
  {
   "cell_type": "code",
   "execution_count": 130,
   "id": "described-anaheim",
   "metadata": {},
   "outputs": [
    {
     "name": "stdout",
     "output_type": "stream",
     "text": [
      "Model: \"sequential_8\"\n",
      "_________________________________________________________________\n",
      " Layer (type)                Output Shape              Param #   \n",
      "=================================================================\n",
      " dense_32 (Dense)            (None, 100)               4100      \n",
      "                                                                 \n",
      " activation_32 (Activation)  (None, 100)               0         \n",
      "                                                                 \n",
      " dropout_24 (Dropout)        (None, 100)               0         \n",
      "                                                                 \n",
      " dense_33 (Dense)            (None, 200)               20200     \n",
      "                                                                 \n",
      " activation_33 (Activation)  (None, 200)               0         \n",
      "                                                                 \n",
      " dropout_25 (Dropout)        (None, 200)               0         \n",
      "                                                                 \n",
      " dense_34 (Dense)            (None, 100)               20100     \n",
      "                                                                 \n",
      " activation_34 (Activation)  (None, 100)               0         \n",
      "                                                                 \n",
      " dropout_26 (Dropout)        (None, 100)               0         \n",
      "                                                                 \n",
      " dense_35 (Dense)            (None, 3)                 303       \n",
      "                                                                 \n",
      " activation_35 (Activation)  (None, 3)                 0         \n",
      "                                                                 \n",
      "=================================================================\n",
      "Total params: 44703 (174.62 KB)\n",
      "Trainable params: 44703 (174.62 KB)\n",
      "Non-trainable params: 0 (0.00 Byte)\n",
      "_________________________________________________________________\n"
     ]
    }
   ],
   "source": [
    "model.summary()"
   ]
  },
  {
   "cell_type": "code",
   "execution_count": 30,
   "id": "radical-finding",
   "metadata": {},
   "outputs": [],
   "source": [
    "model.compile(loss='categorical_crossentropy',metrics=['accuracy'],optimizer='adam')"
   ]
  },
  {
   "cell_type": "code",
   "execution_count": 31,
   "id": "alpha-adapter",
   "metadata": {},
   "outputs": [
    {
     "name": "stdout",
     "output_type": "stream",
     "text": [
      "Epoch 1/100\n",
      "1/3 [=========>....................] - ETA: 1s - loss: 48.7255 - accuracy: 0.3429\n",
      "Epoch 1: val_loss improved from inf to 10.28244, saving model to saved_models\\audio_classification.hdf5\n",
      "3/3 [==============================] - 1s 95ms/step - loss: 46.7018 - accuracy: 0.3125 - val_loss: 10.2824 - val_accuracy: 0.2500\n",
      "Epoch 2/100\n",
      "1/3 [=========>....................] - ETA: 0s - loss: 51.7664 - accuracy: 0.3429\n",
      "Epoch 2: val_loss improved from 10.28244 to 5.89478, saving model to saved_models\\audio_classification.hdf5\n",
      "3/3 [==============================] - 0s 22ms/step - loss: 45.9544 - accuracy: 0.3542 - val_loss: 5.8948 - val_accuracy: 0.3750\n",
      "Epoch 3/100\n",
      "1/3 [=========>....................] - ETA: 0s - loss: 42.6298 - accuracy: 0.3143\n",
      "Epoch 3: val_loss improved from 5.89478 to 4.73672, saving model to saved_models\\audio_classification.hdf5\n",
      "3/3 [==============================] - 0s 23ms/step - loss: 40.5652 - accuracy: 0.3438 - val_loss: 4.7367 - val_accuracy: 0.6250\n",
      "Epoch 4/100\n",
      "1/3 [=========>....................] - ETA: 0s - loss: 40.6499 - accuracy: 0.3143\n",
      "Epoch 4: val_loss improved from 4.73672 to 4.40352, saving model to saved_models\\audio_classification.hdf5\n",
      "3/3 [==============================] - 0s 28ms/step - loss: 32.8078 - accuracy: 0.4062 - val_loss: 4.4035 - val_accuracy: 0.6250\n"
     ]
    },
    {
     "name": "stderr",
     "output_type": "stream",
     "text": [
      "c:\\Users\\dhanu\\Envs\\test\\Lib\\site-packages\\keras\\src\\engine\\training.py:3000: UserWarning: You are saving your model as an HDF5 file via `model.save()`. This file format is considered legacy. We recommend using instead the native Keras format, e.g. `model.save('my_model.keras')`.\n",
      "  saving_api.save_model(\n"
     ]
    },
    {
     "name": "stdout",
     "output_type": "stream",
     "text": [
      "Epoch 5/100\n",
      "1/3 [=========>....................] - ETA: 0s - loss: 25.2908 - accuracy: 0.5143\n",
      "Epoch 5: val_loss improved from 4.40352 to 4.17458, saving model to saved_models\\audio_classification.hdf5\n",
      "3/3 [==============================] - 0s 24ms/step - loss: 25.7009 - accuracy: 0.4792 - val_loss: 4.1746 - val_accuracy: 0.6250\n",
      "Epoch 6/100\n",
      "1/3 [=========>....................] - ETA: 0s - loss: 28.0042 - accuracy: 0.3143\n",
      "Epoch 6: val_loss did not improve from 4.17458\n",
      "3/3 [==============================] - 0s 15ms/step - loss: 25.8938 - accuracy: 0.3438 - val_loss: 4.2360 - val_accuracy: 0.6250\n",
      "Epoch 7/100\n",
      "1/3 [=========>....................] - ETA: 0s - loss: 28.2039 - accuracy: 0.3714\n",
      "Epoch 7: val_loss improved from 4.17458 to 4.02716, saving model to saved_models\\audio_classification.hdf5\n",
      "3/3 [==============================] - 0s 23ms/step - loss: 25.4872 - accuracy: 0.3542 - val_loss: 4.0272 - val_accuracy: 0.6250\n",
      "Epoch 8/100\n",
      "1/3 [=========>....................] - ETA: 0s - loss: 16.2089 - accuracy: 0.4857\n",
      "Epoch 8: val_loss improved from 4.02716 to 3.98256, saving model to saved_models\\audio_classification.hdf5\n",
      "3/3 [==============================] - 0s 22ms/step - loss: 21.6111 - accuracy: 0.3958 - val_loss: 3.9826 - val_accuracy: 0.5417\n",
      "Epoch 9/100\n",
      "1/3 [=========>....................] - ETA: 0s - loss: 20.5750 - accuracy: 0.3429\n",
      "Epoch 9: val_loss improved from 3.98256 to 3.67704, saving model to saved_models\\audio_classification.hdf5\n",
      "3/3 [==============================] - 0s 22ms/step - loss: 19.7394 - accuracy: 0.4167 - val_loss: 3.6770 - val_accuracy: 0.5417\n",
      "Epoch 10/100\n",
      "1/3 [=========>....................] - ETA: 0s - loss: 25.6095 - accuracy: 0.3714\n",
      "Epoch 10: val_loss improved from 3.67704 to 3.36059, saving model to saved_models\\audio_classification.hdf5\n",
      "3/3 [==============================] - 0s 24ms/step - loss: 22.9760 - accuracy: 0.3854 - val_loss: 3.3606 - val_accuracy: 0.5417\n",
      "Epoch 11/100\n",
      "1/3 [=========>....................] - ETA: 0s - loss: 17.2189 - accuracy: 0.5143\n",
      "Epoch 11: val_loss improved from 3.36059 to 2.50977, saving model to saved_models\\audio_classification.hdf5\n",
      "3/3 [==============================] - 0s 21ms/step - loss: 16.6839 - accuracy: 0.4583 - val_loss: 2.5098 - val_accuracy: 0.5833\n",
      "Epoch 12/100\n",
      "1/3 [=========>....................] - ETA: 0s - loss: 19.8285 - accuracy: 0.4286\n",
      "Epoch 12: val_loss improved from 2.50977 to 1.38555, saving model to saved_models\\audio_classification.hdf5\n",
      "3/3 [==============================] - 0s 21ms/step - loss: 14.5742 - accuracy: 0.5000 - val_loss: 1.3855 - val_accuracy: 0.5833\n",
      "Epoch 13/100\n",
      "1/3 [=========>....................] - ETA: 0s - loss: 11.5417 - accuracy: 0.5143\n",
      "Epoch 13: val_loss improved from 1.38555 to 0.82666, saving model to saved_models\\audio_classification.hdf5\n",
      "3/3 [==============================] - 0s 20ms/step - loss: 12.6451 - accuracy: 0.4583 - val_loss: 0.8267 - val_accuracy: 0.5833\n",
      "Epoch 14/100\n",
      "1/3 [=========>....................] - ETA: 0s - loss: 14.0480 - accuracy: 0.4571\n",
      "Epoch 14: val_loss improved from 0.82666 to 0.52894, saving model to saved_models\\audio_classification.hdf5\n",
      "3/3 [==============================] - 0s 21ms/step - loss: 15.5289 - accuracy: 0.4271 - val_loss: 0.5289 - val_accuracy: 0.7917\n",
      "Epoch 15/100\n",
      "1/3 [=========>....................] - ETA: 0s - loss: 11.9600 - accuracy: 0.4857\n",
      "Epoch 15: val_loss did not improve from 0.52894\n",
      "3/3 [==============================] - 0s 14ms/step - loss: 10.8265 - accuracy: 0.5000 - val_loss: 0.5824 - val_accuracy: 0.7917\n",
      "Epoch 16/100\n",
      "1/3 [=========>....................] - ETA: 0s - loss: 7.9452 - accuracy: 0.5143\n",
      "Epoch 16: val_loss improved from 0.52894 to 0.51237, saving model to saved_models\\audio_classification.hdf5\n",
      "3/3 [==============================] - 0s 20ms/step - loss: 10.9516 - accuracy: 0.4479 - val_loss: 0.5124 - val_accuracy: 0.7917\n",
      "Epoch 17/100\n",
      "1/3 [=========>....................] - ETA: 0s - loss: 8.5973 - accuracy: 0.6000\n",
      "Epoch 17: val_loss improved from 0.51237 to 0.44724, saving model to saved_models\\audio_classification.hdf5\n",
      "3/3 [==============================] - 0s 21ms/step - loss: 9.5478 - accuracy: 0.5417 - val_loss: 0.4472 - val_accuracy: 0.7917\n",
      "Epoch 18/100\n",
      "1/3 [=========>....................] - ETA: 0s - loss: 6.6219 - accuracy: 0.6000\n",
      "Epoch 18: val_loss improved from 0.44724 to 0.41288, saving model to saved_models\\audio_classification.hdf5\n",
      "3/3 [==============================] - 0s 21ms/step - loss: 8.7127 - accuracy: 0.5521 - val_loss: 0.4129 - val_accuracy: 0.7917\n",
      "Epoch 19/100\n",
      "1/3 [=========>....................] - ETA: 0s - loss: 8.1490 - accuracy: 0.6857\n",
      "Epoch 19: val_loss improved from 0.41288 to 0.37256, saving model to saved_models\\audio_classification.hdf5\n",
      "3/3 [==============================] - 0s 21ms/step - loss: 8.6853 - accuracy: 0.5521 - val_loss: 0.3726 - val_accuracy: 0.7917\n",
      "Epoch 20/100\n",
      "1/3 [=========>....................] - ETA: 0s - loss: 10.7870 - accuracy: 0.4571\n",
      "Epoch 20: val_loss did not improve from 0.37256\n",
      "3/3 [==============================] - 0s 14ms/step - loss: 9.4987 - accuracy: 0.4896 - val_loss: 0.4571 - val_accuracy: 0.7083\n",
      "Epoch 21/100\n",
      "1/3 [=========>....................] - ETA: 0s - loss: 5.0199 - accuracy: 0.6286\n",
      "Epoch 21: val_loss did not improve from 0.37256\n",
      "3/3 [==============================] - 0s 14ms/step - loss: 8.0156 - accuracy: 0.5625 - val_loss: 0.4638 - val_accuracy: 0.7083\n",
      "Epoch 22/100\n",
      "1/3 [=========>....................] - ETA: 0s - loss: 9.9141 - accuracy: 0.4857\n",
      "Epoch 22: val_loss did not improve from 0.37256\n",
      "3/3 [==============================] - 0s 13ms/step - loss: 10.0083 - accuracy: 0.4583 - val_loss: 0.5640 - val_accuracy: 0.7083\n",
      "Epoch 23/100\n",
      "1/3 [=========>....................] - ETA: 0s - loss: 3.4565 - accuracy: 0.7714\n",
      "Epoch 23: val_loss did not improve from 0.37256\n",
      "3/3 [==============================] - 0s 15ms/step - loss: 5.3664 - accuracy: 0.6562 - val_loss: 0.4727 - val_accuracy: 0.7083\n",
      "Epoch 24/100\n",
      "1/3 [=========>....................] - ETA: 0s - loss: 5.4532 - accuracy: 0.6857\n",
      "Epoch 24: val_loss improved from 0.37256 to 0.27019, saving model to saved_models\\audio_classification.hdf5\n",
      "3/3 [==============================] - 0s 22ms/step - loss: 5.3463 - accuracy: 0.6458 - val_loss: 0.2702 - val_accuracy: 0.8333\n",
      "Epoch 25/100\n",
      "1/3 [=========>....................] - ETA: 0s - loss: 6.1718 - accuracy: 0.6857\n",
      "Epoch 25: val_loss improved from 0.27019 to 0.18351, saving model to saved_models\\audio_classification.hdf5\n",
      "3/3 [==============================] - 0s 23ms/step - loss: 6.1752 - accuracy: 0.6354 - val_loss: 0.1835 - val_accuracy: 0.9583\n",
      "Epoch 26/100\n",
      "1/3 [=========>....................] - ETA: 0s - loss: 8.8259 - accuracy: 0.6000\n",
      "Epoch 26: val_loss improved from 0.18351 to 0.15996, saving model to saved_models\\audio_classification.hdf5\n",
      "3/3 [==============================] - 0s 22ms/step - loss: 5.8823 - accuracy: 0.6354 - val_loss: 0.1600 - val_accuracy: 0.9583\n",
      "Epoch 27/100\n",
      "1/3 [=========>....................] - ETA: 0s - loss: 7.0607 - accuracy: 0.5429\n",
      "Epoch 27: val_loss improved from 0.15996 to 0.15192, saving model to saved_models\\audio_classification.hdf5\n",
      "3/3 [==============================] - 0s 22ms/step - loss: 5.9360 - accuracy: 0.5312 - val_loss: 0.1519 - val_accuracy: 0.9583\n",
      "Epoch 28/100\n",
      "1/3 [=========>....................] - ETA: 0s - loss: 6.1808 - accuracy: 0.6286\n",
      "Epoch 28: val_loss improved from 0.15192 to 0.14508, saving model to saved_models\\audio_classification.hdf5\n",
      "3/3 [==============================] - 0s 22ms/step - loss: 5.1038 - accuracy: 0.6354 - val_loss: 0.1451 - val_accuracy: 0.9583\n",
      "Epoch 29/100\n",
      "1/3 [=========>....................] - ETA: 0s - loss: 4.1395 - accuracy: 0.7429\n",
      "Epoch 29: val_loss improved from 0.14508 to 0.08886, saving model to saved_models\\audio_classification.hdf5\n",
      "3/3 [==============================] - 0s 23ms/step - loss: 4.6740 - accuracy: 0.6875 - val_loss: 0.0889 - val_accuracy: 0.9583\n",
      "Epoch 30/100\n",
      "1/3 [=========>....................] - ETA: 0s - loss: 4.5139 - accuracy: 0.6286\n",
      "Epoch 30: val_loss improved from 0.08886 to 0.05952, saving model to saved_models\\audio_classification.hdf5\n",
      "3/3 [==============================] - 0s 22ms/step - loss: 3.5415 - accuracy: 0.6875 - val_loss: 0.0595 - val_accuracy: 1.0000\n",
      "Epoch 31/100\n",
      "1/3 [=========>....................] - ETA: 0s - loss: 6.4618 - accuracy: 0.5429\n",
      "Epoch 31: val_loss improved from 0.05952 to 0.05707, saving model to saved_models\\audio_classification.hdf5\n",
      "3/3 [==============================] - 0s 22ms/step - loss: 5.6394 - accuracy: 0.6146 - val_loss: 0.0571 - val_accuracy: 1.0000\n",
      "Epoch 32/100\n",
      "1/3 [=========>....................] - ETA: 0s - loss: 5.7685 - accuracy: 0.6571\n",
      "Epoch 32: val_loss improved from 0.05707 to 0.05060, saving model to saved_models\\audio_classification.hdf5\n",
      "3/3 [==============================] - 0s 23ms/step - loss: 4.6442 - accuracy: 0.6875 - val_loss: 0.0506 - val_accuracy: 1.0000\n",
      "Epoch 33/100\n",
      "1/3 [=========>....................] - ETA: 0s - loss: 3.8023 - accuracy: 0.6000\n",
      "Epoch 33: val_loss improved from 0.05060 to 0.04623, saving model to saved_models\\audio_classification.hdf5\n",
      "3/3 [==============================] - 0s 22ms/step - loss: 4.2932 - accuracy: 0.6146 - val_loss: 0.0462 - val_accuracy: 1.0000\n",
      "Epoch 34/100\n",
      "1/3 [=========>....................] - ETA: 0s - loss: 4.2799 - accuracy: 0.5714\n",
      "Epoch 34: val_loss did not improve from 0.04623\n",
      "3/3 [==============================] - 0s 14ms/step - loss: 4.3577 - accuracy: 0.6562 - val_loss: 0.0499 - val_accuracy: 1.0000\n",
      "Epoch 35/100\n",
      "1/3 [=========>....................] - ETA: 0s - loss: 3.9285 - accuracy: 0.7143\n",
      "Epoch 35: val_loss did not improve from 0.04623\n",
      "3/3 [==============================] - 0s 17ms/step - loss: 3.9690 - accuracy: 0.6562 - val_loss: 0.0487 - val_accuracy: 1.0000\n",
      "Epoch 36/100\n",
      "1/3 [=========>....................] - ETA: 0s - loss: 3.3827 - accuracy: 0.6571\n",
      "Epoch 36: val_loss improved from 0.04623 to 0.04080, saving model to saved_models\\audio_classification.hdf5\n",
      "3/3 [==============================] - 0s 26ms/step - loss: 4.0970 - accuracy: 0.6562 - val_loss: 0.0408 - val_accuracy: 1.0000\n",
      "Epoch 37/100\n",
      "1/3 [=========>....................] - ETA: 0s - loss: 4.1979 - accuracy: 0.6286\n",
      "Epoch 37: val_loss improved from 0.04080 to 0.03107, saving model to saved_models\\audio_classification.hdf5\n",
      "3/3 [==============================] - 0s 23ms/step - loss: 3.3300 - accuracy: 0.6562 - val_loss: 0.0311 - val_accuracy: 1.0000\n",
      "Epoch 38/100\n",
      "1/3 [=========>....................] - ETA: 0s - loss: 2.5710 - accuracy: 0.7429\n",
      "Epoch 38: val_loss improved from 0.03107 to 0.01818, saving model to saved_models\\audio_classification.hdf5\n",
      "3/3 [==============================] - 0s 22ms/step - loss: 3.5258 - accuracy: 0.6771 - val_loss: 0.0182 - val_accuracy: 1.0000\n",
      "Epoch 39/100\n",
      "1/3 [=========>....................] - ETA: 0s - loss: 4.2172 - accuracy: 0.5143\n",
      "Epoch 39: val_loss improved from 0.01818 to 0.00918, saving model to saved_models\\audio_classification.hdf5\n",
      "3/3 [==============================] - 0s 21ms/step - loss: 3.6209 - accuracy: 0.5521 - val_loss: 0.0092 - val_accuracy: 1.0000\n",
      "Epoch 40/100\n",
      "1/3 [=========>....................] - ETA: 0s - loss: 1.7099 - accuracy: 0.8000\n",
      "Epoch 40: val_loss improved from 0.00918 to 0.00601, saving model to saved_models\\audio_classification.hdf5\n",
      "3/3 [==============================] - 0s 22ms/step - loss: 2.2693 - accuracy: 0.7917 - val_loss: 0.0060 - val_accuracy: 1.0000\n",
      "Epoch 41/100\n",
      "1/3 [=========>....................] - ETA: 0s - loss: 4.8211 - accuracy: 0.5429\n",
      "Epoch 41: val_loss improved from 0.00601 to 0.00439, saving model to saved_models\\audio_classification.hdf5\n",
      "3/3 [==============================] - 0s 21ms/step - loss: 3.8172 - accuracy: 0.6354 - val_loss: 0.0044 - val_accuracy: 1.0000\n",
      "Epoch 42/100\n",
      "1/3 [=========>....................] - ETA: 0s - loss: 3.9060 - accuracy: 0.7429\n",
      "Epoch 42: val_loss improved from 0.00439 to 0.00312, saving model to saved_models\\audio_classification.hdf5\n",
      "3/3 [==============================] - 0s 22ms/step - loss: 3.0939 - accuracy: 0.6979 - val_loss: 0.0031 - val_accuracy: 1.0000\n",
      "Epoch 43/100\n",
      "1/3 [=========>....................] - ETA: 0s - loss: 5.1473 - accuracy: 0.6286\n",
      "Epoch 43: val_loss did not improve from 0.00312\n",
      "3/3 [==============================] - 0s 15ms/step - loss: 4.1026 - accuracy: 0.6562 - val_loss: 0.0032 - val_accuracy: 1.0000\n",
      "Epoch 44/100\n",
      "1/3 [=========>....................] - ETA: 0s - loss: 2.4998 - accuracy: 0.7714\n",
      "Epoch 44: val_loss did not improve from 0.00312\n",
      "3/3 [==============================] - 0s 14ms/step - loss: 2.4857 - accuracy: 0.7604 - val_loss: 0.0033 - val_accuracy: 1.0000\n",
      "Epoch 45/100\n",
      "1/3 [=========>....................] - ETA: 0s - loss: 2.2743 - accuracy: 0.7429\n",
      "Epoch 45: val_loss did not improve from 0.00312\n",
      "3/3 [==============================] - 0s 13ms/step - loss: 3.3243 - accuracy: 0.6979 - val_loss: 0.0039 - val_accuracy: 1.0000\n",
      "Epoch 46/100\n",
      "1/3 [=========>....................] - ETA: 0s - loss: 2.5059 - accuracy: 0.7143\n",
      "Epoch 46: val_loss did not improve from 0.00312\n",
      "3/3 [==============================] - 0s 15ms/step - loss: 2.9951 - accuracy: 0.6875 - val_loss: 0.0045 - val_accuracy: 1.0000\n",
      "Epoch 47/100\n",
      "1/3 [=========>....................] - ETA: 0s - loss: 3.1129 - accuracy: 0.6571\n",
      "Epoch 47: val_loss did not improve from 0.00312\n",
      "3/3 [==============================] - 0s 14ms/step - loss: 2.8102 - accuracy: 0.7396 - val_loss: 0.0055 - val_accuracy: 1.0000\n",
      "Epoch 48/100\n",
      "1/3 [=========>....................] - ETA: 0s - loss: 3.2175 - accuracy: 0.8000\n",
      "Epoch 48: val_loss did not improve from 0.00312\n",
      "3/3 [==============================] - 0s 13ms/step - loss: 3.8093 - accuracy: 0.7292 - val_loss: 0.0072 - val_accuracy: 1.0000\n",
      "Epoch 49/100\n",
      "1/3 [=========>....................] - ETA: 0s - loss: 1.8945 - accuracy: 0.7143\n",
      "Epoch 49: val_loss did not improve from 0.00312\n",
      "3/3 [==============================] - 0s 14ms/step - loss: 1.8453 - accuracy: 0.7500 - val_loss: 0.0095 - val_accuracy: 1.0000\n",
      "Epoch 50/100\n",
      "1/3 [=========>....................] - ETA: 0s - loss: 2.6868 - accuracy: 0.6286\n",
      "Epoch 50: val_loss did not improve from 0.00312\n",
      "3/3 [==============================] - 0s 16ms/step - loss: 2.1516 - accuracy: 0.6979 - val_loss: 0.0122 - val_accuracy: 1.0000\n",
      "Epoch 51/100\n",
      "1/3 [=========>....................] - ETA: 0s - loss: 3.2788 - accuracy: 0.7143\n",
      "Epoch 51: val_loss did not improve from 0.00312\n",
      "3/3 [==============================] - 0s 15ms/step - loss: 2.9245 - accuracy: 0.6979 - val_loss: 0.0109 - val_accuracy: 1.0000\n",
      "Epoch 52/100\n",
      "1/3 [=========>....................] - ETA: 0s - loss: 0.9986 - accuracy: 0.7143\n",
      "Epoch 52: val_loss did not improve from 0.00312\n",
      "3/3 [==============================] - 0s 15ms/step - loss: 2.3441 - accuracy: 0.7083 - val_loss: 0.0102 - val_accuracy: 1.0000\n",
      "Epoch 53/100\n",
      "1/3 [=========>....................] - ETA: 0s - loss: 1.8853 - accuracy: 0.7714\n",
      "Epoch 53: val_loss did not improve from 0.00312\n",
      "3/3 [==============================] - 0s 14ms/step - loss: 1.7404 - accuracy: 0.7812 - val_loss: 0.0099 - val_accuracy: 1.0000\n",
      "Epoch 54/100\n",
      "1/3 [=========>....................] - ETA: 0s - loss: 3.0447 - accuracy: 0.7429\n",
      "Epoch 54: val_loss did not improve from 0.00312\n",
      "3/3 [==============================] - 0s 14ms/step - loss: 2.5720 - accuracy: 0.7604 - val_loss: 0.0088 - val_accuracy: 1.0000\n",
      "Epoch 55/100\n",
      "1/3 [=========>....................] - ETA: 0s - loss: 2.5853 - accuracy: 0.6571\n",
      "Epoch 55: val_loss did not improve from 0.00312\n",
      "3/3 [==============================] - 0s 13ms/step - loss: 2.3166 - accuracy: 0.7292 - val_loss: 0.0071 - val_accuracy: 1.0000\n",
      "Epoch 56/100\n",
      "1/3 [=========>....................] - ETA: 0s - loss: 3.6971 - accuracy: 0.6857\n",
      "Epoch 56: val_loss did not improve from 0.00312\n",
      "3/3 [==============================] - 0s 13ms/step - loss: 2.6940 - accuracy: 0.7708 - val_loss: 0.0069 - val_accuracy: 1.0000\n",
      "Epoch 57/100\n",
      "1/3 [=========>....................] - ETA: 0s - loss: 1.9747 - accuracy: 0.8000\n",
      "Epoch 57: val_loss did not improve from 0.00312\n",
      "3/3 [==============================] - 0s 13ms/step - loss: 2.4049 - accuracy: 0.7604 - val_loss: 0.0068 - val_accuracy: 1.0000\n",
      "Epoch 58/100\n",
      "1/3 [=========>....................] - ETA: 0s - loss: 1.0720 - accuracy: 0.7714\n",
      "Epoch 58: val_loss did not improve from 0.00312\n",
      "3/3 [==============================] - 0s 13ms/step - loss: 1.8105 - accuracy: 0.7500 - val_loss: 0.0073 - val_accuracy: 1.0000\n",
      "Epoch 59/100\n",
      "1/3 [=========>....................] - ETA: 0s - loss: 1.1756 - accuracy: 0.8000\n",
      "Epoch 59: val_loss did not improve from 0.00312\n",
      "3/3 [==============================] - 0s 13ms/step - loss: 1.4977 - accuracy: 0.7708 - val_loss: 0.0072 - val_accuracy: 1.0000\n",
      "Epoch 60/100\n",
      "1/3 [=========>....................] - ETA: 0s - loss: 1.7307 - accuracy: 0.7429\n",
      "Epoch 60: val_loss did not improve from 0.00312\n",
      "3/3 [==============================] - 0s 13ms/step - loss: 1.9893 - accuracy: 0.7396 - val_loss: 0.0079 - val_accuracy: 1.0000\n",
      "Epoch 61/100\n",
      "1/3 [=========>....................] - ETA: 0s - loss: 0.5997 - accuracy: 0.8286\n",
      "Epoch 61: val_loss did not improve from 0.00312\n",
      "3/3 [==============================] - 0s 13ms/step - loss: 1.1742 - accuracy: 0.7604 - val_loss: 0.0076 - val_accuracy: 1.0000\n",
      "Epoch 62/100\n",
      "1/3 [=========>....................] - ETA: 0s - loss: 2.6276 - accuracy: 0.6857\n",
      "Epoch 62: val_loss did not improve from 0.00312\n",
      "3/3 [==============================] - 0s 14ms/step - loss: 1.3862 - accuracy: 0.8021 - val_loss: 0.0069 - val_accuracy: 1.0000\n",
      "Epoch 63/100\n",
      "1/3 [=========>....................] - ETA: 0s - loss: 1.8593 - accuracy: 0.6857\n",
      "Epoch 63: val_loss did not improve from 0.00312\n",
      "3/3 [==============================] - 0s 14ms/step - loss: 0.9809 - accuracy: 0.8021 - val_loss: 0.0064 - val_accuracy: 1.0000\n",
      "Epoch 64/100\n",
      "1/3 [=========>....................] - ETA: 0s - loss: 0.4520 - accuracy: 0.8571\n",
      "Epoch 64: val_loss did not improve from 0.00312\n",
      "3/3 [==============================] - 0s 13ms/step - loss: 0.7224 - accuracy: 0.8333 - val_loss: 0.0053 - val_accuracy: 1.0000\n",
      "Epoch 65/100\n",
      "1/3 [=========>....................] - ETA: 0s - loss: 1.2414 - accuracy: 0.8571\n",
      "Epoch 65: val_loss did not improve from 0.00312\n",
      "3/3 [==============================] - 0s 13ms/step - loss: 1.0906 - accuracy: 0.8646 - val_loss: 0.0046 - val_accuracy: 1.0000\n",
      "Epoch 66/100\n",
      "1/3 [=========>....................] - ETA: 0s - loss: 0.5684 - accuracy: 0.8571\n",
      "Epoch 66: val_loss did not improve from 0.00312\n",
      "3/3 [==============================] - 0s 13ms/step - loss: 1.6164 - accuracy: 0.7604 - val_loss: 0.0039 - val_accuracy: 1.0000\n",
      "Epoch 67/100\n",
      "1/3 [=========>....................] - ETA: 0s - loss: 1.9345 - accuracy: 0.8000\n",
      "Epoch 67: val_loss did not improve from 0.00312\n",
      "3/3 [==============================] - 0s 13ms/step - loss: 1.8033 - accuracy: 0.7917 - val_loss: 0.0039 - val_accuracy: 1.0000\n",
      "Epoch 68/100\n",
      "1/3 [=========>....................] - ETA: 0s - loss: 0.5984 - accuracy: 0.8571\n",
      "Epoch 68: val_loss did not improve from 0.00312\n",
      "3/3 [==============================] - 0s 13ms/step - loss: 1.0191 - accuracy: 0.8438 - val_loss: 0.0041 - val_accuracy: 1.0000\n",
      "Epoch 69/100\n",
      "1/3 [=========>....................] - ETA: 0s - loss: 1.1485 - accuracy: 0.7429\n",
      "Epoch 69: val_loss did not improve from 0.00312\n",
      "3/3 [==============================] - 0s 13ms/step - loss: 1.0294 - accuracy: 0.7917 - val_loss: 0.0044 - val_accuracy: 1.0000\n",
      "Epoch 70/100\n",
      "1/3 [=========>....................] - ETA: 0s - loss: 1.0866 - accuracy: 0.8857\n",
      "Epoch 70: val_loss did not improve from 0.00312\n",
      "3/3 [==============================] - 0s 13ms/step - loss: 1.2167 - accuracy: 0.8854 - val_loss: 0.0048 - val_accuracy: 1.0000\n",
      "Epoch 71/100\n",
      "1/3 [=========>....................] - ETA: 0s - loss: 0.1032 - accuracy: 0.9429\n",
      "Epoch 71: val_loss did not improve from 0.00312\n",
      "3/3 [==============================] - 0s 12ms/step - loss: 0.8495 - accuracy: 0.8958 - val_loss: 0.0047 - val_accuracy: 1.0000\n",
      "Epoch 72/100\n",
      "1/3 [=========>....................] - ETA: 0s - loss: 1.4508 - accuracy: 0.8571\n",
      "Epoch 72: val_loss did not improve from 0.00312\n",
      "3/3 [==============================] - 0s 13ms/step - loss: 1.4836 - accuracy: 0.8021 - val_loss: 0.0044 - val_accuracy: 1.0000\n",
      "Epoch 73/100\n",
      "1/3 [=========>....................] - ETA: 0s - loss: 0.3205 - accuracy: 0.8571\n",
      "Epoch 73: val_loss did not improve from 0.00312\n",
      "3/3 [==============================] - 0s 13ms/step - loss: 0.5994 - accuracy: 0.8750 - val_loss: 0.0042 - val_accuracy: 1.0000\n",
      "Epoch 74/100\n",
      "1/3 [=========>....................] - ETA: 0s - loss: 0.0993 - accuracy: 0.9429\n",
      "Epoch 74: val_loss did not improve from 0.00312\n",
      "3/3 [==============================] - 0s 13ms/step - loss: 0.3130 - accuracy: 0.9062 - val_loss: 0.0036 - val_accuracy: 1.0000\n",
      "Epoch 75/100\n",
      "1/3 [=========>....................] - ETA: 0s - loss: 1.3378 - accuracy: 0.8000\n",
      "Epoch 75: val_loss did not improve from 0.00312\n",
      "3/3 [==============================] - 0s 14ms/step - loss: 1.0782 - accuracy: 0.8125 - val_loss: 0.0038 - val_accuracy: 1.0000\n",
      "Epoch 76/100\n",
      "1/3 [=========>....................] - ETA: 0s - loss: 0.9995 - accuracy: 0.8286\n",
      "Epoch 76: val_loss did not improve from 0.00312\n",
      "3/3 [==============================] - 0s 13ms/step - loss: 0.8217 - accuracy: 0.8438 - val_loss: 0.0039 - val_accuracy: 1.0000\n",
      "Epoch 77/100\n",
      "1/3 [=========>....................] - ETA: 0s - loss: 2.5050 - accuracy: 0.8000\n",
      "Epoch 77: val_loss did not improve from 0.00312\n",
      "3/3 [==============================] - 0s 13ms/step - loss: 1.5909 - accuracy: 0.8125 - val_loss: 0.0040 - val_accuracy: 1.0000\n",
      "Epoch 78/100\n",
      "1/3 [=========>....................] - ETA: 0s - loss: 1.2869 - accuracy: 0.8286\n",
      "Epoch 78: val_loss did not improve from 0.00312\n",
      "3/3 [==============================] - 0s 14ms/step - loss: 0.6268 - accuracy: 0.8750 - val_loss: 0.0035 - val_accuracy: 1.0000\n",
      "Epoch 79/100\n",
      "1/3 [=========>....................] - ETA: 0s - loss: 1.5531 - accuracy: 0.8571\n",
      "Epoch 79: val_loss improved from 0.00312 to 0.00283, saving model to saved_models\\audio_classification.hdf5\n",
      "3/3 [==============================] - 0s 19ms/step - loss: 0.9288 - accuracy: 0.8750 - val_loss: 0.0028 - val_accuracy: 1.0000\n",
      "Epoch 80/100\n",
      "1/3 [=========>....................] - ETA: 0s - loss: 0.0634 - accuracy: 0.9714\n",
      "Epoch 80: val_loss improved from 0.00283 to 0.00217, saving model to saved_models\\audio_classification.hdf5\n",
      "3/3 [==============================] - 0s 21ms/step - loss: 0.8032 - accuracy: 0.8438 - val_loss: 0.0022 - val_accuracy: 1.0000\n",
      "Epoch 81/100\n",
      "1/3 [=========>....................] - ETA: 0s - loss: 0.4707 - accuracy: 0.9429\n",
      "Epoch 81: val_loss improved from 0.00217 to 0.00162, saving model to saved_models\\audio_classification.hdf5\n",
      "3/3 [==============================] - 0s 21ms/step - loss: 0.6937 - accuracy: 0.9167 - val_loss: 0.0016 - val_accuracy: 1.0000\n",
      "Epoch 82/100\n",
      "1/3 [=========>....................] - ETA: 0s - loss: 0.0856 - accuracy: 0.9714\n",
      "Epoch 82: val_loss improved from 0.00162 to 0.00135, saving model to saved_models\\audio_classification.hdf5\n",
      "3/3 [==============================] - 0s 24ms/step - loss: 0.0943 - accuracy: 0.9688 - val_loss: 0.0014 - val_accuracy: 1.0000\n",
      "Epoch 83/100\n",
      "1/3 [=========>....................] - ETA: 0s - loss: 0.8193 - accuracy: 0.8286\n",
      "Epoch 83: val_loss improved from 0.00135 to 0.00111, saving model to saved_models\\audio_classification.hdf5\n",
      "3/3 [==============================] - 0s 22ms/step - loss: 0.5537 - accuracy: 0.8854 - val_loss: 0.0011 - val_accuracy: 1.0000\n",
      "Epoch 84/100\n",
      "1/3 [=========>....................] - ETA: 0s - loss: 0.6214 - accuracy: 0.8857\n",
      "Epoch 84: val_loss improved from 0.00111 to 0.00091, saving model to saved_models\\audio_classification.hdf5\n",
      "3/3 [==============================] - 0s 21ms/step - loss: 0.7253 - accuracy: 0.8646 - val_loss: 9.0547e-04 - val_accuracy: 1.0000\n",
      "Epoch 85/100\n",
      "1/3 [=========>....................] - ETA: 0s - loss: 0.4036 - accuracy: 0.9143\n",
      "Epoch 85: val_loss improved from 0.00091 to 0.00076, saving model to saved_models\\audio_classification.hdf5\n",
      "3/3 [==============================] - 0s 21ms/step - loss: 0.6745 - accuracy: 0.9167 - val_loss: 7.6155e-04 - val_accuracy: 1.0000\n",
      "Epoch 86/100\n",
      "1/3 [=========>....................] - ETA: 0s - loss: 0.4058 - accuracy: 0.8857\n",
      "Epoch 86: val_loss improved from 0.00076 to 0.00065, saving model to saved_models\\audio_classification.hdf5\n",
      "3/3 [==============================] - 0s 21ms/step - loss: 0.5224 - accuracy: 0.8958 - val_loss: 6.5328e-04 - val_accuracy: 1.0000\n",
      "Epoch 87/100\n",
      "1/3 [=========>....................] - ETA: 0s - loss: 0.7486 - accuracy: 0.8000\n",
      "Epoch 87: val_loss did not improve from 0.00065\n",
      "3/3 [==============================] - 0s 14ms/step - loss: 0.8434 - accuracy: 0.8438 - val_loss: 7.0565e-04 - val_accuracy: 1.0000\n",
      "Epoch 88/100\n",
      "1/3 [=========>....................] - ETA: 0s - loss: 0.5436 - accuracy: 0.8857\n",
      "Epoch 88: val_loss did not improve from 0.00065\n",
      "3/3 [==============================] - 0s 14ms/step - loss: 0.5681 - accuracy: 0.9271 - val_loss: 0.0010 - val_accuracy: 1.0000\n",
      "Epoch 89/100\n",
      "1/3 [=========>....................] - ETA: 0s - loss: 0.3504 - accuracy: 0.9143\n",
      "Epoch 89: val_loss did not improve from 0.00065\n",
      "3/3 [==============================] - 0s 13ms/step - loss: 0.8343 - accuracy: 0.8750 - val_loss: 0.0012 - val_accuracy: 1.0000\n",
      "Epoch 90/100\n",
      "1/3 [=========>....................] - ETA: 0s - loss: 0.4198 - accuracy: 0.9714\n",
      "Epoch 90: val_loss did not improve from 0.00065\n",
      "3/3 [==============================] - 0s 12ms/step - loss: 0.7936 - accuracy: 0.8854 - val_loss: 0.0012 - val_accuracy: 1.0000\n",
      "Epoch 91/100\n",
      "1/3 [=========>....................] - ETA: 0s - loss: 1.4124 - accuracy: 0.8000\n",
      "Epoch 91: val_loss did not improve from 0.00065\n",
      "3/3 [==============================] - 0s 13ms/step - loss: 0.8163 - accuracy: 0.8750 - val_loss: 0.0013 - val_accuracy: 1.0000\n",
      "Epoch 92/100\n",
      "1/3 [=========>....................] - ETA: 0s - loss: 0.5493 - accuracy: 0.8286\n",
      "Epoch 92: val_loss did not improve from 0.00065\n",
      "3/3 [==============================] - 0s 13ms/step - loss: 0.6160 - accuracy: 0.8125 - val_loss: 0.0012 - val_accuracy: 1.0000\n",
      "Epoch 93/100\n",
      "1/3 [=========>....................] - ETA: 0s - loss: 1.7897 - accuracy: 0.7429\n",
      "Epoch 93: val_loss did not improve from 0.00065\n",
      "3/3 [==============================] - 0s 15ms/step - loss: 0.8329 - accuracy: 0.8542 - val_loss: 9.5224e-04 - val_accuracy: 1.0000\n",
      "Epoch 94/100\n",
      "1/3 [=========>....................] - ETA: 0s - loss: 0.0482 - accuracy: 0.9714\n",
      "Epoch 94: val_loss did not improve from 0.00065\n",
      "3/3 [==============================] - 0s 13ms/step - loss: 0.2611 - accuracy: 0.9271 - val_loss: 7.6428e-04 - val_accuracy: 1.0000\n",
      "Epoch 95/100\n",
      "1/3 [=========>....................] - ETA: 0s - loss: 0.3438 - accuracy: 0.9429\n",
      "Epoch 95: val_loss improved from 0.00065 to 0.00061, saving model to saved_models\\audio_classification.hdf5\n",
      "3/3 [==============================] - 0s 21ms/step - loss: 0.2742 - accuracy: 0.9375 - val_loss: 6.1005e-04 - val_accuracy: 1.0000\n",
      "Epoch 96/100\n",
      "1/3 [=========>....................] - ETA: 0s - loss: 1.7223 - accuracy: 0.8571\n",
      "Epoch 96: val_loss improved from 0.00061 to 0.00059, saving model to saved_models\\audio_classification.hdf5\n",
      "3/3 [==============================] - 0s 21ms/step - loss: 0.7605 - accuracy: 0.9062 - val_loss: 5.9189e-04 - val_accuracy: 1.0000\n",
      "Epoch 97/100\n",
      "1/3 [=========>....................] - ETA: 0s - loss: 0.8655 - accuracy: 0.8857\n",
      "Epoch 97: val_loss improved from 0.00059 to 0.00050, saving model to saved_models\\audio_classification.hdf5\n",
      "3/3 [==============================] - 0s 21ms/step - loss: 0.7008 - accuracy: 0.8958 - val_loss: 4.9641e-04 - val_accuracy: 1.0000\n",
      "Epoch 98/100\n",
      "1/3 [=========>....................] - ETA: 0s - loss: 0.4906 - accuracy: 0.9429\n",
      "Epoch 98: val_loss improved from 0.00050 to 0.00041, saving model to saved_models\\audio_classification.hdf5\n",
      "3/3 [==============================] - 0s 21ms/step - loss: 0.7955 - accuracy: 0.8750 - val_loss: 4.1116e-04 - val_accuracy: 1.0000\n",
      "Epoch 99/100\n",
      "1/3 [=========>....................] - ETA: 0s - loss: 0.1201 - accuracy: 0.9143\n",
      "Epoch 99: val_loss improved from 0.00041 to 0.00039, saving model to saved_models\\audio_classification.hdf5\n",
      "3/3 [==============================] - 0s 22ms/step - loss: 0.2587 - accuracy: 0.9062 - val_loss: 3.9268e-04 - val_accuracy: 1.0000\n",
      "Epoch 100/100\n",
      "1/3 [=========>....................] - ETA: 0s - loss: 0.6658 - accuracy: 0.8857\n",
      "Epoch 100: val_loss improved from 0.00039 to 0.00033, saving model to saved_models\\audio_classification.hdf5\n",
      "3/3 [==============================] - 0s 22ms/step - loss: 0.4220 - accuracy: 0.9271 - val_loss: 3.3104e-04 - val_accuracy: 1.0000\n",
      "Training completed in time:  0:00:04.983223\n"
     ]
    }
   ],
   "source": [
    "## Trianing my model\n",
    "from tensorflow.keras.callbacks import ModelCheckpoint\n",
    "from datetime import datetime \n",
    "\n",
    "num_epochs = 100\n",
    "num_batch_size = 35\n",
    "\n",
    "checkpointer = ModelCheckpoint(filepath='saved_models/audio_classification.hdf5', \n",
    "                               verbose=1, save_best_only=True)\n",
    "start = datetime.now()\n",
    "\n",
    "model.fit(X_train, y_train, batch_size=num_batch_size, epochs=num_epochs, validation_data=(X_test, y_test), callbacks=[checkpointer], verbose=1)\n",
    "\n",
    "\n",
    "duration = datetime.now() - start\n",
    "print(\"Training completed in time: \", duration)"
   ]
  },
  {
   "cell_type": "code",
   "execution_count": 133,
   "id": "virgin-butter",
   "metadata": {},
   "outputs": [
    {
     "name": "stdout",
     "output_type": "stream",
     "text": [
      "1.0\n"
     ]
    }
   ],
   "source": [
    "test_accuracy=model.evaluate(X_test,y_test,verbose=0)\n",
    "print(test_accuracy[1])"
   ]
  },
  {
   "cell_type": "code",
   "execution_count": 80,
   "id": "a2d4bcad",
   "metadata": {},
   "outputs": [
    {
     "name": "stdout",
     "output_type": "stream",
     "text": [
      "Requirement already satisfied: seaborn in c:\\users\\dhanu\\envs\\test\\lib\\site-packages (0.12.2)\n",
      "Requirement already satisfied: numpy!=1.24.0,>=1.17 in c:\\users\\dhanu\\envs\\test\\lib\\site-packages (from seaborn) (1.24.3)\n",
      "Requirement already satisfied: pandas>=0.25 in c:\\users\\dhanu\\envs\\test\\lib\\site-packages (from seaborn) (2.0.3)\n",
      "Requirement already satisfied: matplotlib!=3.6.1,>=3.1 in c:\\users\\dhanu\\envs\\test\\lib\\site-packages (from seaborn) (3.7.2)\n",
      "Requirement already satisfied: contourpy>=1.0.1 in c:\\users\\dhanu\\envs\\test\\lib\\site-packages (from matplotlib!=3.6.1,>=3.1->seaborn) (1.1.0)\n",
      "Requirement already satisfied: cycler>=0.10 in c:\\users\\dhanu\\envs\\test\\lib\\site-packages (from matplotlib!=3.6.1,>=3.1->seaborn) (0.11.0)\n",
      "Requirement already satisfied: fonttools>=4.22.0 in c:\\users\\dhanu\\envs\\test\\lib\\site-packages (from matplotlib!=3.6.1,>=3.1->seaborn) (4.42.1)\n",
      "Requirement already satisfied: kiwisolver>=1.0.1 in c:\\users\\dhanu\\envs\\test\\lib\\site-packages (from matplotlib!=3.6.1,>=3.1->seaborn) (1.4.4)\n",
      "Requirement already satisfied: packaging>=20.0 in c:\\users\\dhanu\\envs\\test\\lib\\site-packages (from matplotlib!=3.6.1,>=3.1->seaborn) (23.1)\n",
      "Requirement already satisfied: pillow>=6.2.0 in c:\\users\\dhanu\\envs\\test\\lib\\site-packages (from matplotlib!=3.6.1,>=3.1->seaborn) (10.0.0)\n",
      "Requirement already satisfied: pyparsing<3.1,>=2.3.1 in c:\\users\\dhanu\\envs\\test\\lib\\site-packages (from matplotlib!=3.6.1,>=3.1->seaborn) (3.0.9)\n",
      "Requirement already satisfied: python-dateutil>=2.7 in c:\\users\\dhanu\\envs\\test\\lib\\site-packages (from matplotlib!=3.6.1,>=3.1->seaborn) (2.8.2)\n",
      "Requirement already satisfied: pytz>=2020.1 in c:\\users\\dhanu\\envs\\test\\lib\\site-packages (from pandas>=0.25->seaborn) (2023.3)\n",
      "Requirement already satisfied: tzdata>=2022.1 in c:\\users\\dhanu\\envs\\test\\lib\\site-packages (from pandas>=0.25->seaborn) (2022.7)\n",
      "Requirement already satisfied: six>=1.5 in c:\\users\\dhanu\\envs\\test\\lib\\site-packages (from python-dateutil>=2.7->matplotlib!=3.6.1,>=3.1->seaborn) (1.16.0)\n",
      "Note: you may need to restart the kernel to use updated packages.\n"
     ]
    }
   ],
   "source": [
    "pip install seaborn"
   ]
  },
  {
   "cell_type": "code",
   "execution_count": 32,
   "id": "ff39462c",
   "metadata": {},
   "outputs": [
    {
     "name": "stdout",
     "output_type": "stream",
     "text": [
      "1/1 [==============================] - 0s 61ms/step\n"
     ]
    },
    {
     "data": {
      "image/png": "[encoded data removed]",
      "text/plain": [
       "<Figure size 800x600 with 2 Axes>"
      ]
     },
     "metadata": {},
     "output_type": "display_data"
    }
   ],
   "source": [
    "import numpy as np\n",
    "import seaborn as sns\n",
    "import matplotlib.pyplot as plt\n",
    "from sklearn.metrics import confusion_matrix\n",
    "\n",
    "# Assuming you have already trained and compiled your model\n",
    "\n",
    "# Predict classes for the test set\n",
    "predicted_classes = model.predict(X_test)\n",
    "predicted_classes = np.argmax(predicted_classes, axis=1)  # Convert probabilities to class labels\n",
    "\n",
    "# Compute the confusion matrix\n",
    "cm = confusion_matrix(np.argmax(y_test, axis=1), predicted_classes)\n",
    "\n",
    "# Define class label names\n",
    "label_names = [\"Empty\", \"Partial\", \"Filled\"]\n",
    "\n",
    "# Create a heatmap of the confusion matrix\n",
    "plt.figure(figsize=(8, 6))\n",
    "sns.heatmap(cm, annot=True, fmt=\"d\", cmap=\"Blues\", xticklabels=label_names, yticklabels=label_names)\n",
    "plt.xlabel('Predicted')\n",
    "plt.ylabel('Actual')\n",
    "plt.title('Confusion Matrix')\n",
    "plt.show()\n"
   ]
  },
  {
   "cell_type": "markdown",
   "id": "advanced-booth",
   "metadata": {},
   "source": [
    "### Testing Some Test Audio Data\n",
    "\n",
    "Steps\n",
    "- Preprocess the new audio data\n",
    "- predict the classes\n",
    "- Invere transform your Predicted Label"
   ]
  },
  {
   "cell_type": "code",
   "execution_count": 33,
   "id": "chubby-newsletter",
   "metadata": {
    "scrolled": true
   },
   "outputs": [
    {
     "name": "stdout",
     "output_type": "stream",
     "text": [
      "1/1 [==============================] - 0s 14ms/step\n",
      "['Empty']\n"
     ]
    }
   ],
   "source": [
    "from sklearn.preprocessing import LabelEncoder\n",
    "\n",
    "# Fitting the LabelEncoder once with all possible class labels\n",
    "labelencoder = LabelEncoder()\n",
    "labelencoder.fit(label_names)  # Replace with your actual class labels\n",
    "\n",
    "# Load and process the audio\n",
    "filename = \"empty.wav\"\n",
    "audio, sample_rate = librosa.load(filename, res_type='scipy') \n",
    "mfccs_features = librosa.feature.mfcc(y=audio, sr=sample_rate, n_mfcc=40)\n",
    "mfccs_scaled_features = np.mean(mfccs_features.T, axis=0)\n",
    "mfccs_scaled_features = mfccs_scaled_features.reshape(1, -1)\n",
    "\n",
    "# Predicting the class\n",
    "predicted_probabilities = model.predict(mfccs_scaled_features)\n",
    "predicted_class_index = np.argmax(predicted_probabilities)\n",
    "\n",
    "# Transform the predicted class index back to the original label\n",
    "predicted_class_label = labelencoder.inverse_transform([predicted_class_index])\n",
    "print(predicted_class_label)\n"
   ]
  },
  {
   "cell_type": "code",
   "execution_count": 60,
   "id": "64baf391",
   "metadata": {},
   "outputs": [
    {
     "name": "stdout",
     "output_type": "stream",
     "text": [
      "Listening for real-time audio...\n",
      "1/1 [==============================] - 0s 45ms/step\n",
      "Predicted class: Filled\n",
      "1/1 [==============================] - 0s 14ms/step\n",
      "Predicted class: Filled\n",
      "1/1 [==============================] - 0s 14ms/step\n",
      "Predicted class: Filled\n",
      "1/1 [==============================] - 0s 15ms/step\n",
      "Predicted class: Filled\n",
      "1/1 [==============================] - 0s 15ms/step\n",
      "Predicted class: Filled\n",
      "1/1 [==============================] - 0s 14ms/step\n",
      "Predicted class: Filled\n",
      "1/1 [==============================] - 0s 15ms/step\n",
      "Predicted class: Filled\n",
      "1/1 [==============================] - 0s 16ms/step\n",
      "Predicted class: Filled\n",
      "1/1 [==============================] - 0s 15ms/step\n",
      "Predicted class: Filled\n"
     ]
    }
   ],
   "source": [
    "import numpy as np\n",
    "import sounddevice as sd\n",
    "import librosa\n",
    "from keras.models import Sequential\n",
    "from keras.layers import Dense, Activation, Dropout\n",
    "\n",
    "# Load your trained model here\n",
    "# model = ...\n",
    "model=Sequential()\n",
    "###first layer\n",
    "model.add(Dense(100,input_shape=(40,)))\n",
    "model.add(Activation('relu'))\n",
    "model.add(Dropout(0.5))\n",
    "###second layer\n",
    "model.add(Dense(200))\n",
    "model.add(Activation('relu'))\n",
    "model.add(Dropout(0.5))\n",
    "###third layer\n",
    "model.add(Dense(100))\n",
    "model.add(Activation('relu'))\n",
    "model.add(Dropout(0.5))\n",
    "\n",
    "###final layer\n",
    "model.add(Dense(num_labels))\n",
    "model.add(Activation('softmax'))\n",
    "\n",
    "# Load any necessary label encoder or preprocessing steps\n",
    "# labelencoder = ...\n",
    "\n",
    "# Define the number of audio samples to capture per chunk\n",
    "chunk_size = 22050  # Adjust this value based on your needs\n",
    "\n",
    "# Set up audio stream for real-time capture\n",
    "sample_rate = 22050  # Adjust this value based on your needs\n",
    "sd.default.samplerate = sample_rate\n",
    "sd.default.channels = 1  # Adjust this value based on your needs\n",
    "\n",
    "def process_audio_chunk(indata, frames, time, status):\n",
    "    global model\n",
    "    \n",
    "    # Convert the audio chunk to mono if it's stereo\n",
    "    audio_mono = np.mean(indata, axis=1)\n",
    "    \n",
    "    # Perform feature extraction\n",
    "    mfccs_features = librosa.feature.mfcc(y=audio_mono, sr=sample_rate, n_mfcc=40)\n",
    "    mfccs_scaled_features = np.mean(mfccs_features.T, axis=0)\n",
    "    \n",
    "    # Reshape and predict\n",
    "    mfccs_scaled_features = mfccs_scaled_features.reshape(1, -1)\n",
    "    predicted_probabilities = model.predict(mfccs_scaled_features)\n",
    "    predicted_class_index = np.argmax(predicted_probabilities)\n",
    "    predicted_class_label = labelencoder.inverse_transform([predicted_class_index])\n",
    "    \n",
    "    print(\"Predicted class:\", predicted_class_label[0])  # Convert numpy array to string\n",
    "\n",
    "# Start capturing audio in real-time\n",
    "with sd.InputStream(callback=process_audio_chunk, blocksize=chunk_size):\n",
    "    print(\"Listening for real-time audio...\")\n",
    "    sd.sleep(10000)  # Adjust this value based on how long you want to listen\n"
   ]
  }
 ],
 "metadata": {
  "kernelspec": {
   "display_name": "Python 3",
   "language": "python",
   "name": "python3"
  },
  "language_info": {
   "codemirror_mode": {
    "name": "ipython",
    "version": 3
   },
   "file_extension": ".py",
   "mimetype": "text/x-python",
   "name": "python",
   "nbconvert_exporter": "python",
   "pygments_lexer": "ipython3",
   "version": "3.11.1"
  }
 },
 "nbformat": 4,
 "nbformat_minor": 5
}
